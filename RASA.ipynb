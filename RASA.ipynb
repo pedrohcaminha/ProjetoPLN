{
  "nbformat": 4,
  "nbformat_minor": 0,
  "metadata": {
    "colab": {
      "name": "RASA.ipynb",
      "provenance": [],
      "authorship_tag": "ABX9TyP8oSjLyS/IbOI7yyviDjFF",
      "include_colab_link": true
    },
    "kernelspec": {
      "name": "python3",
      "display_name": "Python 3"
    },
    "language_info": {
      "name": "python"
    }
  },
  "cells": [
    {
      "cell_type": "markdown",
      "metadata": {
        "id": "view-in-github",
        "colab_type": "text"
      },
      "source": [
        "<a href=\"https://colab.research.google.com/github/pedrohcaminha/ProjetoPLN/blob/main/RASA.ipynb\" target=\"_parent\"><img src=\"https://colab.research.google.com/assets/colab-badge.svg\" alt=\"Open In Colab\"/></a>"
      ]
    },
    {
      "cell_type": "code",
      "metadata": {
        "colab": {
          "base_uri": "https://localhost:8080/"
        },
        "id": "LXbPTxGOerFw",
        "outputId": "5080a030-456c-4a2e-8a12-5b3b9af0c602"
      },
      "source": [
        "!pip3 install nest_asyncio"
      ],
      "execution_count": 3,
      "outputs": [
        {
          "output_type": "stream",
          "text": [
            "Requirement already satisfied: nest_asyncio in /usr/local/lib/python3.7/dist-packages (1.5.1)\n"
          ],
          "name": "stdout"
        }
      ]
    },
    {
      "cell_type": "code",
      "metadata": {
        "colab": {
          "base_uri": "https://localhost:8080/"
        },
        "id": "TemK2qacesKv",
        "outputId": "c7fb03dc-8a0e-44aa-9dba-a81baec7332a"
      },
      "source": [
        "import nest_asyncio\n",
        "\n",
        "nest_asyncio.apply()\n",
        "print(\"Event loop ready.\")"
      ],
      "execution_count": 4,
      "outputs": [
        {
          "output_type": "stream",
          "text": [
            "Event loop ready.\n"
          ],
          "name": "stdout"
        }
      ]
    },
    {
      "cell_type": "code",
      "metadata": {
        "id": "zch_0s3Iezkw"
      },
      "source": [
        "!pip3 install rasa &> /dev/null"
      ],
      "execution_count": 5,
      "outputs": []
    },
    {
      "cell_type": "code",
      "metadata": {
        "colab": {
          "base_uri": "https://localhost:8080/"
        },
        "id": "wYNgUw7mevCv",
        "outputId": "d4ddd0cd-9ba3-4c52-9b5f-5195d353369f"
      },
      "source": [
        "from rasa.cli.scaffold import create_initial_project\n",
        "import os\n",
        "\n",
        "project = \"test-project\"\n",
        "create_initial_project(project)\n",
        "\n",
        "# move into project directory and show files\n",
        "os.chdir(project)\n",
        "print(os.listdir(\".\"))"
      ],
      "execution_count": 6,
      "outputs": [
        {
          "output_type": "stream",
          "text": [
            "['tests', 'config.yml', 'actions', 'story_graph.dot', 'models', 'credentials.yml', 'endpoints.yml', 'data', 'domain.yml']\n"
          ],
          "name": "stdout"
        }
      ]
    },
    {
      "cell_type": "code",
      "metadata": {
        "colab": {
          "base_uri": "https://localhost:8080/"
        },
        "id": "Cg0hCDbaexS_",
        "outputId": "809279be-a4e0-429c-8072-1643dfe7c2cd"
      },
      "source": [
        "config = \"config.yml\"\n",
        "training_files = \"data/\"\n",
        "domain = \"domain.yml\"\n",
        "output = \"models/\"\n",
        "print(config, training_files, domain, output)"
      ],
      "execution_count": 7,
      "outputs": [
        {
          "output_type": "stream",
          "text": [
            "config.yml data/ domain.yml models/\n"
          ],
          "name": "stdout"
        }
      ]
    },
    {
      "cell_type": "code",
      "metadata": {
        "id": "kpx6xakfiwy7"
      },
      "source": [
        "with open('data/nlu.yml','w') as f:\n",
        "  f.write('''\n",
        "version: \"2.0\"\n",
        "\n",
        "nlu:\n",
        "- intent: greet\n",
        "  examples: |\n",
        "    - hey\n",
        "    - hello\n",
        "    - hi\n",
        "    - hello there\n",
        "    - good morning\n",
        "    - good evening\n",
        "    - moin\n",
        "    - hey there\n",
        "    - let's go\n",
        "    - hey dude\n",
        "    - goodmorning\n",
        "    - goodevening\n",
        "    - good afternoon\n",
        "\n",
        "- intent: goodbye\n",
        "  examples: |\n",
        "    - good afternoon\n",
        "    - cu\n",
        "    - good by\n",
        "    - cee you later\n",
        "    - good night\n",
        "    - bye\n",
        "    - goodbye\n",
        "    - have a nice day\n",
        "    - see you around\n",
        "    - bye bye\n",
        "    - see you later\n",
        "\n",
        "- intent: affirm\n",
        "  examples: |\n",
        "    - \n",
        "    - yes\n",
        "    - y\n",
        "    - indeed\n",
        "    - of course\n",
        "    - that sounds good\n",
        "    - correct\n",
        "\n",
        "- intent: deny\n",
        "  examples: |\n",
        "    - no\n",
        "    - n\n",
        "    - never\n",
        "    - I don't think so\n",
        "    - don't like that\n",
        "    - no way\n",
        "    - not really\n",
        "\n",
        "- intent: mood_great\n",
        "  examples: |\n",
        "    - perfect\n",
        "    - great\n",
        "    - amazing\n",
        "    - feeling like a king\n",
        "    - wonderful\n",
        "    - I am feeling very good\n",
        "    - I am great\n",
        "    - I am amazing\n",
        "    - I am going to save the world\n",
        "    - super stoked\n",
        "    - extremely good\n",
        "    - so so perfect\n",
        "    - so good\n",
        "    - so perfect\n",
        "\n",
        "- intent: mood_unhappy\n",
        "  examples: |\n",
        "    - my day was horrible\n",
        "    - I am sad\n",
        "    - I don't feel very well\n",
        "    - I am disappointed\n",
        "    - super sad\n",
        "    - I'm so sad\n",
        "    - sad\n",
        "    - very sad\n",
        "    - unhappy\n",
        "    - not good\n",
        "    - not very good\n",
        "    - extremly sad\n",
        "    - so saad\n",
        "    - so sad\n",
        "\n",
        "- intent: bot_challenge\n",
        "  examples: |\n",
        "    - are you a bot?\n",
        "    - are you a human?\n",
        "    - am I talking to a bot?\n",
        "    - am I talking to a human?\n",
        "\n",
        "- intent: book_flight\n",
        "  examples: |\n",
        "    - I want to book a flight \n",
        "    - Show me the flights options\n",
        "    - Which flights are available?\n",
        "    - Show de available flights\n",
        "    - I want to see the flight options\n",
        "\n",
        "- intent: origin\n",
        "  examples: |\n",
        "    - I am in [London](city)\n",
        "    - Im from [Paris](city)\n",
        "    - From [NYC]\n",
        "    - [Orlando]\n",
        "\n",
        "- intent: destination\n",
        "  examples: |\n",
        "    - To [London](city)\n",
        "    - Im going to [Paris](city)\n",
        "    - I want to go to [NYC]\n",
        "    - [Orlando]\n",
        "''')"
      ],
      "execution_count": 13,
      "outputs": []
    },
    {
      "cell_type": "code",
      "metadata": {
        "id": "JwfC5C_EkR6U"
      },
      "source": [
        "with open('data/stories.yml','w') as f:\n",
        "  f.write('''\n",
        "version: \"2.0\"\n",
        "\n",
        "stories:\n",
        "\n",
        "- story: happy path\n",
        "  steps:\n",
        "  - intent: greet\n",
        "  - action: utter_greet\n",
        "  - intent: mood_great\n",
        "  - action: utter_happy\n",
        "\n",
        "- story: sad path 1\n",
        "  steps:\n",
        "  - intent: greet\n",
        "  - action: utter_greet\n",
        "  - intent: mood_unhappy\n",
        "  - action: utter_cheer_up\n",
        "  - action: utter_did_that_help\n",
        "  - intent: affirm\n",
        "  - action: utter_happy\n",
        "\n",
        "- story: sad path 2\n",
        "  steps:\n",
        "  - intent: greet\n",
        "  - action: utter_greet\n",
        "  - intent: mood_unhappy\n",
        "  - action: utter_cheer_up\n",
        "  - action: utter_did_that_help\n",
        "  - intent: deny\n",
        "  - action: utter_goodbye\n",
        "\n",
        "- story: book a flight\n",
        "  steps:\n",
        "  - intent: book_flight\n",
        "  - action: ask_origin\n",
        "  - intent: origin\n",
        "    entities:\n",
        "    - city: \"London\"\n",
        "  - action: ask_destination\n",
        "  - intent: destination\n",
        "    entities:\n",
        "    - city: \"NYC\"\n",
        "  - action: show_flights\n",
        "\n",
        "''')"
      ],
      "execution_count": 14,
      "outputs": []
    },
    {
      "cell_type": "code",
      "metadata": {
        "id": "GVA9ACk4l_Ib"
      },
      "source": [
        "with open('domain.yml','w') as f:\n",
        "  f.write('''\n",
        "  version: \"2.0\"\n",
        "\n",
        "  intents:\n",
        "    - greet\n",
        "    - goodbye\n",
        "    - affirm\n",
        "    - deny\n",
        "    - mood_great\n",
        "    - mood_unhappy\n",
        "    - bot_challenge\n",
        "    - book_flight\n",
        "    - origin\n",
        "    - destination\n",
        "\n",
        "  entities:\n",
        "    - city\n",
        "\n",
        "\n",
        "  responses:\n",
        "    utter_greet:\n",
        "    - text: \"Hey! How are you?\"\n",
        "\n",
        "    utter_cheer_up:\n",
        "    - text: \"Here is something to cheer you up:\"\n",
        "      image: \"https://i.imgur.com/nGF1K8f.jpg\"\n",
        "\n",
        "    utter_did_that_help:\n",
        "    - text: \"Did that help you?\"\n",
        "\n",
        "    utter_happy:\n",
        "    - text: \"Great, carry on!\"\n",
        "\n",
        "    utter_goodbye:\n",
        "    - text: \"Bye\"\n",
        "\n",
        "    utter_iamabot:\n",
        "    - text: \"I am a bot, powered by Rasa.\"\n",
        "\n",
        "    ask_origin:\n",
        "    - text: \"which city are you coming from?\"\n",
        "\n",
        "    ask_destination:\n",
        "    - text: \"which city are you planning to travel?\"\n",
        "\n",
        "    show_flights:\n",
        "    - text: \"the available flights are: NO_DATA_FOUND (SEARCH NEEDED)\"\n",
        "\n",
        "  session_config:\n",
        "    session_expiration_time: 60\n",
        "    carry_over_slots_to_new_session: true\n",
        "''')"
      ],
      "execution_count": 15,
      "outputs": []
    },
    {
      "cell_type": "code",
      "metadata": {
        "colab": {
          "base_uri": "https://localhost:8080/"
        },
        "id": "3Oqq1D-Xe_5O",
        "outputId": "26857b2e-7b31-4fb9-fe28-4122ada3085f"
      },
      "source": [
        "!rasa train"
      ],
      "execution_count": 16,
      "outputs": [
        {
          "output_type": "stream",
          "text": [
            "2021-08-15 02:49:06 \u001b[1;30mINFO    \u001b[0m \u001b[34mroot\u001b[0m  - Generating grammar tables from /usr/lib/python3.7/lib2to3/Grammar.txt\n",
            "2021-08-15 02:49:06 \u001b[1;30mINFO    \u001b[0m \u001b[34mroot\u001b[0m  - Generating grammar tables from /usr/lib/python3.7/lib2to3/PatternGrammar.txt\n",
            "\u001b[94mThe configuration for policies and pipeline was chosen automatically. It was written into the config file at 'config.yml'.\u001b[0m\n",
            "2021-08-15 02:49:07 \u001b[1;30mINFO    \u001b[0m \u001b[34mrasa.model\u001b[0m  - Data (messages) for NLU model section changed.\n",
            "\u001b[94mTraining NLU model...\u001b[0m\n",
            "2021-08-15 02:49:08 \u001b[1;30mINFO    \u001b[0m \u001b[34mrasa.shared.nlu.training_data.training_data\u001b[0m  - Training data stats:\n",
            "2021-08-15 02:49:08 \u001b[1;30mINFO    \u001b[0m \u001b[34mrasa.shared.nlu.training_data.training_data\u001b[0m  - Number of intent examples: 82 (10 distinct intents)\n",
            "\n",
            "2021-08-15 02:49:08 \u001b[1;30mINFO    \u001b[0m \u001b[34mrasa.shared.nlu.training_data.training_data\u001b[0m  -   Found intents: 'affirm', 'destination', 'origin', 'bot_challenge', 'book_flight', 'goodbye', 'mood_great', 'mood_unhappy', 'greet', 'deny'\n",
            "2021-08-15 02:49:08 \u001b[1;30mINFO    \u001b[0m \u001b[34mrasa.shared.nlu.training_data.training_data\u001b[0m  - Number of response examples: 0 (0 distinct responses)\n",
            "2021-08-15 02:49:08 \u001b[1;30mINFO    \u001b[0m \u001b[34mrasa.shared.nlu.training_data.training_data\u001b[0m  - Number of entity examples: 4 (1 distinct entities)\n",
            "2021-08-15 02:49:08 \u001b[1;30mINFO    \u001b[0m \u001b[34mrasa.shared.nlu.training_data.training_data\u001b[0m  -   Found entity types: 'city'\n",
            "2021-08-15 02:49:08 \u001b[1;30mINFO    \u001b[0m \u001b[34mrasa.nlu.model\u001b[0m  - Starting to train component WhitespaceTokenizer\n",
            "2021-08-15 02:49:08 \u001b[1;30mINFO    \u001b[0m \u001b[34mrasa.nlu.model\u001b[0m  - Finished training component.\n",
            "2021-08-15 02:49:08 \u001b[1;30mINFO    \u001b[0m \u001b[34mrasa.nlu.model\u001b[0m  - Starting to train component RegexFeaturizer\n",
            "2021-08-15 02:49:08 \u001b[1;30mINFO    \u001b[0m \u001b[34mrasa.nlu.model\u001b[0m  - Finished training component.\n",
            "2021-08-15 02:49:08 \u001b[1;30mINFO    \u001b[0m \u001b[34mrasa.nlu.model\u001b[0m  - Starting to train component LexicalSyntacticFeaturizer\n",
            "2021-08-15 02:49:08 \u001b[1;30mINFO    \u001b[0m \u001b[34mrasa.nlu.model\u001b[0m  - Finished training component.\n",
            "2021-08-15 02:49:08 \u001b[1;30mINFO    \u001b[0m \u001b[34mrasa.nlu.model\u001b[0m  - Starting to train component CountVectorsFeaturizer\n",
            "2021-08-15 02:49:08 \u001b[1;30mINFO    \u001b[0m \u001b[34mrasa.nlu.featurizers.sparse_featurizer.count_vectors_featurizer\u001b[0m  - 97 vocabulary items were created for text attribute.\n",
            "2021-08-15 02:49:08 \u001b[1;30mINFO    \u001b[0m \u001b[34mrasa.nlu.model\u001b[0m  - Finished training component.\n",
            "2021-08-15 02:49:08 \u001b[1;30mINFO    \u001b[0m \u001b[34mrasa.nlu.model\u001b[0m  - Starting to train component CountVectorsFeaturizer\n",
            "2021-08-15 02:49:08 \u001b[1;30mINFO    \u001b[0m \u001b[34mrasa.nlu.featurizers.sparse_featurizer.count_vectors_featurizer\u001b[0m  - 834 vocabulary items were created for text attribute.\n",
            "2021-08-15 02:49:08 \u001b[1;30mINFO    \u001b[0m \u001b[34mrasa.nlu.model\u001b[0m  - Finished training component.\n",
            "2021-08-15 02:49:08 \u001b[1;30mINFO    \u001b[0m \u001b[34mrasa.nlu.model\u001b[0m  - Starting to train component DIETClassifier\n",
            "2021-08-15 02:49:09.079520: E tensorflow/stream_executor/cuda/cuda_driver.cc:314] failed call to cuInit: CUDA_ERROR_NO_DEVICE: no CUDA-capable device is detected\n",
            "Epochs: 100% 100/100 [00:44<00:00,  2.25it/s, t_loss=1.64, i_acc=0.976, e_f1=1]\n",
            "2021-08-15 02:49:53 \u001b[1;30mINFO    \u001b[0m \u001b[34mrasa.nlu.model\u001b[0m  - Finished training component.\n",
            "2021-08-15 02:49:53 \u001b[1;30mINFO    \u001b[0m \u001b[34mrasa.nlu.model\u001b[0m  - Starting to train component EntitySynonymMapper\n",
            "2021-08-15 02:49:53 \u001b[1;30mINFO    \u001b[0m \u001b[34mrasa.nlu.model\u001b[0m  - Finished training component.\n",
            "2021-08-15 02:49:53 \u001b[1;30mINFO    \u001b[0m \u001b[34mrasa.nlu.model\u001b[0m  - Starting to train component ResponseSelector\n",
            "2021-08-15 02:49:53 \u001b[1;30mINFO    \u001b[0m \u001b[34mrasa.nlu.selectors.response_selector\u001b[0m  - Retrieval intent parameter was left to its default value. This response selector will be trained on training examples combining all retrieval intents.\n",
            "2021-08-15 02:49:53 \u001b[1;30mINFO    \u001b[0m \u001b[34mrasa.nlu.model\u001b[0m  - Finished training component.\n",
            "2021-08-15 02:49:53 \u001b[1;30mINFO    \u001b[0m \u001b[34mrasa.nlu.model\u001b[0m  - Starting to train component FallbackClassifier\n",
            "2021-08-15 02:49:53 \u001b[1;30mINFO    \u001b[0m \u001b[34mrasa.nlu.model\u001b[0m  - Finished training component.\n",
            "2021-08-15 02:49:53 \u001b[1;30mINFO    \u001b[0m \u001b[34mrasa.nlu.model\u001b[0m  - Successfully saved model into '/tmp/tmpkapm91ps/nlu'\n",
            "\u001b[94mNLU model training completed.\u001b[0m\n",
            "\u001b[94mCore stories/configuration did not change. No need to retrain Core model.\u001b[0m\n",
            "\u001b[92mYour Rasa model is trained and saved at '/content/test-project/models/20210815-024954.tar.gz'.\u001b[0m\n"
          ],
          "name": "stdout"
        }
      ]
    },
    {
      "cell_type": "code",
      "metadata": {
        "colab": {
          "base_uri": "https://localhost:8080/"
        },
        "id": "uu-7TioffFAV",
        "outputId": "431d5750-2ff7-4ef8-a230-79f1e3ea628e"
      },
      "source": [
        "!rasa shell "
      ],
      "execution_count": null,
      "outputs": [
        {
          "output_type": "stream",
          "text": [
            "2021-08-15 02:50:06 \u001b[1;30mINFO    \u001b[0m \u001b[34mrasa.model\u001b[0m  - Loading model models/20210815-024954.tar.gz...\n",
            "2021-08-15 02:50:07 \u001b[1;30mINFO    \u001b[0m \u001b[34mroot\u001b[0m  - Generating grammar tables from /usr/lib/python3.7/lib2to3/Grammar.txt\n",
            "2021-08-15 02:50:07 \u001b[1;30mINFO    \u001b[0m \u001b[34mroot\u001b[0m  - Generating grammar tables from /usr/lib/python3.7/lib2to3/PatternGrammar.txt\n",
            "2021-08-15 02:50:09 \u001b[1;30mINFO    \u001b[0m \u001b[34mroot\u001b[0m  - Connecting to channel 'cmdline' which was specified by the '--connector' argument. Any other channels will be ignored. To connect to all given channels, omit the '--connector' argument.\n",
            "2021-08-15 02:50:09 \u001b[1;30mINFO    \u001b[0m \u001b[34mroot\u001b[0m  - Starting Rasa server on http://localhost:5005\n",
            "2021-08-15 02:50:09 \u001b[1;30mINFO    \u001b[0m \u001b[34mrasa.model\u001b[0m  - Loading model models/20210815-024954.tar.gz...\n",
            "2021-08-15 02:50:11.061544: E tensorflow/stream_executor/cuda/cuda_driver.cc:314] failed call to cuInit: CUDA_ERROR_NO_DEVICE: no CUDA-capable device is detected\n",
            "2021-08-15 02:50:42 \u001b[1;30mWARNING \u001b[0m \u001b[34mrasa.shared.utils.common\u001b[0m  - \u001b[33mThe UnexpecTED Intent Policy is currently experimental and might change or be removed in the future 🔬 Please share your feedback on it in the forum (https://forum.rasa.com) to help us make this feature ready for production.\u001b[0m\n",
            "2021-08-15 02:50:53 \u001b[1;30mINFO    \u001b[0m \u001b[34mroot\u001b[0m  - Rasa server is up and running.\n",
            "\u001b[92mBot loaded. Type a message and press enter (use '/stop' to exit): \u001b[0m\n",
            "\u001b[15C\u001b[?7h\u001b[0m\u001b[?12l\u001b[?25h\u001b[15D\u001b[J\u001b[0m\u001b[?7h\u001b[?2004l\u001b[?1lWARNING: your terminal doesn't support cursor position requests (CPR).\n",
            "\u001b[0m\n",
            "\u001b[J\u001b[?7h\u001b[0m\u001b[?12l\u001b[?25h\u001b[?2004l\u001b[94mHey! How are you?\u001b[0m\n",
            "\u001b[15C\u001b[?7h\u001b[0m\u001b[?12l\u001b[?25h\u001b[15D\u001b[J\u001b[0m\u001b[?7h\u001b[?2004l\u001b[?1lWARNING: your terminal doesn't support cursor position requests (CPR).\n",
            "\u001b[0m\n",
            "\u001b[J\u001b[?7h\u001b[0m\u001b[?12l\u001b[?25h\u001b[?2004l2021-08-15 02:51:28 \u001b[1;30mERROR   \u001b[0m \u001b[34mrasa.core.processor\u001b[0m  - \u001b[31mEncountered an exception while running action 'ask_origin'.Bot will continue, but the actions events are lost. Please check the logs of your action server for more information.\u001b[0m\n",
            "Traceback (most recent call last):\n",
            "  File \"/usr/local/lib/python3.7/dist-packages/rasa/core/processor.py\", line 773, in _run_action\n",
            "    output_channel, nlg, temporary_tracker, self.domain\n",
            "  File \"/usr/local/lib/python3.7/dist-packages/rasa/core/actions/action.py\", line 673, in run\n",
            "    f\"Failed to execute custom action '{self.name()}' \"\n",
            "rasa.shared.exceptions.RasaException: Failed to execute custom action 'ask_origin' because no endpoint is configured to run this custom action. Please take a look at the docs and set an endpoint configuration via the --endpoints flag. https://rasa.com/docs/rasa/custom-actions\n",
            "\u001b[15C\u001b[?7h\u001b[0m\u001b[?12l\u001b[?25h\u001b[15D\u001b[J\u001b[0m\u001b[?7h\u001b[?2004l\u001b[?1lWARNING: your terminal doesn't support cursor position requests (CPR).\n",
            "\u001b[0m\n",
            "\u001b[15C\u001b[?7h\u001b[0m\u001b[?12l\u001b[?25h\u001b[15D\u001b[J\u001b[0m\u001b[?7h\u001b[?2004l\u001b[?1lWARNING: your terminal doesn't support cursor position requests (CPR).\n",
            "\u001b[0m\n",
            "\u001b[J\u001b[?7h\u001b[0m\u001b[?12l\u001b[?25h\u001b[?2004l\u001b[94mHey! How are you?\u001b[0m\n",
            "\u001b[15C\u001b[?7h\u001b[0m\u001b[?12l\u001b[?25h\u001b[15D\u001b[J\u001b[0m\u001b[?7h\u001b[?2004l\u001b[?1lWARNING: your terminal doesn't support cursor position requests (CPR).\n",
            "\u001b[0m\n",
            "\u001b[15C\u001b[?7h\u001b[0m\u001b[?12l\u001b[?25h\u001b[15D\u001b[J\u001b[0m\u001b[?7h\u001b[?2004l\u001b[?1lWARNING: your terminal doesn't support cursor position requests (CPR).\n",
            "\u001b[0m\n",
            "\u001b[15C\u001b[?7h\u001b[0m\u001b[?12l\u001b[?25h\u001b[15D\u001b[J\u001b[0m\u001b[?7h\u001b[?2004l\u001b[?1lWARNING: your terminal doesn't support cursor position requests (CPR).\n",
            "\u001b[0m\n",
            "\u001b[15C\u001b[?7h\u001b[0m\u001b[?12l\u001b[?25h\u001b[15D\u001b[J\u001b[0m\u001b[?7h\u001b[?2004l\u001b[?1lWARNING: your terminal doesn't support cursor position requests (CPR).\n",
            "\u001b[15C\u001b[?7h\u001b[0m\u001b[?12l\u001b[?25h"
          ],
          "name": "stdout"
        }
      ]
    },
    {
      "cell_type": "code",
      "metadata": {
        "id": "6phaTaQXoY65"
      },
      "source": [
        ""
      ],
      "execution_count": null,
      "outputs": []
    }
  ]
}