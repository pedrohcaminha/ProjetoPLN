{
  "nbformat": 4,
  "nbformat_minor": 0,
  "metadata": {
    "colab": {
      "name": "Projeto.ipynb",
      "provenance": [],
      "authorship_tag": "ABX9TyOApTZjqT7cDyDB/4S846+W",
      "include_colab_link": true
    },
    "kernelspec": {
      "name": "python3",
      "display_name": "Python 3"
    },
    "language_info": {
      "name": "python"
    }
  },
  "cells": [
    {
      "cell_type": "markdown",
      "metadata": {
        "id": "view-in-github",
        "colab_type": "text"
      },
      "source": [
        "<a href=\"https://colab.research.google.com/github/pedrohcaminha/ProjetoPLN/blob/main/Projeto.ipynb\" target=\"_parent\"><img src=\"https://colab.research.google.com/assets/colab-badge.svg\" alt=\"Open In Colab\"/></a>"
      ]
    },
    {
      "cell_type": "markdown",
      "metadata": {
        "id": "S-MWaBDRaxIl"
      },
      "source": [
        "# 1 baixando os dados"
      ]
    },
    {
      "cell_type": "code",
      "metadata": {
        "colab": {
          "base_uri": "https://localhost:8080/"
        },
        "id": "1OHFYO2kaF__",
        "outputId": "002e8d78-e47b-4638-cf11-93f0a6707dab"
      },
      "source": [
        "! pip install kaggle"
      ],
      "execution_count": 1,
      "outputs": [
        {
          "output_type": "stream",
          "text": [
            "Requirement already satisfied: kaggle in /usr/local/lib/python3.7/dist-packages (1.5.12)\n",
            "Requirement already satisfied: urllib3 in /usr/local/lib/python3.7/dist-packages (from kaggle) (1.24.3)\n",
            "Requirement already satisfied: requests in /usr/local/lib/python3.7/dist-packages (from kaggle) (2.23.0)\n",
            "Requirement already satisfied: tqdm in /usr/local/lib/python3.7/dist-packages (from kaggle) (4.41.1)\n",
            "Requirement already satisfied: python-slugify in /usr/local/lib/python3.7/dist-packages (from kaggle) (5.0.2)\n",
            "Requirement already satisfied: python-dateutil in /usr/local/lib/python3.7/dist-packages (from kaggle) (2.8.1)\n",
            "Requirement already satisfied: six>=1.10 in /usr/local/lib/python3.7/dist-packages (from kaggle) (1.15.0)\n",
            "Requirement already satisfied: certifi in /usr/local/lib/python3.7/dist-packages (from kaggle) (2021.5.30)\n",
            "Requirement already satisfied: chardet<4,>=3.0.2 in /usr/local/lib/python3.7/dist-packages (from requests->kaggle) (3.0.4)\n",
            "Requirement already satisfied: idna<3,>=2.5 in /usr/local/lib/python3.7/dist-packages (from requests->kaggle) (2.10)\n",
            "Requirement already satisfied: text-unidecode>=1.3 in /usr/local/lib/python3.7/dist-packages (from python-slugify->kaggle) (1.3)\n"
          ],
          "name": "stdout"
        }
      ]
    },
    {
      "cell_type": "code",
      "metadata": {
        "colab": {
          "base_uri": "https://localhost:8080/"
        },
        "id": "Ye7f2iknaF9Y",
        "outputId": "67da7b71-04bb-4f89-c825-65916592dadb"
      },
      "source": [
        "! mkdir ~/.kaggle"
      ],
      "execution_count": 2,
      "outputs": [
        {
          "output_type": "stream",
          "text": [
            "mkdir: cannot create directory ‘/root/.kaggle’: File exists\n"
          ],
          "name": "stdout"
        }
      ]
    },
    {
      "cell_type": "markdown",
      "metadata": {
        "id": "n1DEkj-eazSI"
      },
      "source": [
        ""
      ]
    },
    {
      "cell_type": "code",
      "metadata": {
        "id": "mDon9SKDaF6p"
      },
      "source": [
        "! cp kaggle.json ~/.kaggle/"
      ],
      "execution_count": 3,
      "outputs": []
    },
    {
      "cell_type": "code",
      "metadata": {
        "id": "TuAmWLpjaF3-"
      },
      "source": [
        "! chmod 600 ~/.kaggle/kaggle.json"
      ],
      "execution_count": 4,
      "outputs": []
    },
    {
      "cell_type": "code",
      "metadata": {
        "colab": {
          "base_uri": "https://localhost:8080/"
        },
        "id": "B5H77OXHYq7q",
        "outputId": "0da27a28-a61a-4682-bf52-70a4b5e94a73"
      },
      "source": [
        "! kaggle datasets download hassanamin/atis-airlinetravelinformationsystem"
      ],
      "execution_count": 5,
      "outputs": [
        {
          "output_type": "stream",
          "text": [
            "atis-airlinetravelinformationsystem.zip: Skipping, found more recently modified local copy (use --force to force download)\n"
          ],
          "name": "stdout"
        }
      ]
    },
    {
      "cell_type": "code",
      "metadata": {
        "colab": {
          "base_uri": "https://localhost:8080/"
        },
        "id": "txSUxUbcaZeT",
        "outputId": "51306a9e-1a8d-4f4c-b32f-f9702e8ee3fe"
      },
      "source": [
        "! unzip atis-airlinetravelinformationsystem.zip"
      ],
      "execution_count": 6,
      "outputs": [
        {
          "output_type": "stream",
          "text": [
            "Archive:  atis-airlinetravelinformationsystem.zip\n",
            "replace atis_intents.csv? [y]es, [n]o, [A]ll, [N]one, [r]ename: A\n",
            "  inflating: atis_intents.csv        \n",
            "  inflating: atis_intents_test.csv   \n",
            "  inflating: atis_intents_train.csv  \n"
          ],
          "name": "stdout"
        }
      ]
    },
    {
      "cell_type": "code",
      "metadata": {
        "colab": {
          "base_uri": "https://localhost:8080/"
        },
        "id": "FXM0ncahak-S",
        "outputId": "022213ec-59a7-4580-f4b1-8f18b600d61f"
      },
      "source": [
        "! ls"
      ],
      "execution_count": 7,
      "outputs": [
        {
          "output_type": "stream",
          "text": [
            "atis-airlinetravelinformationsystem.zip  atis_intents_test.csv\t kaggle.json\n",
            "atis_intents.csv\t\t\t atis_intents_train.csv  sample_data\n"
          ],
          "name": "stdout"
        }
      ]
    },
    {
      "cell_type": "markdown",
      "metadata": {
        "id": "shU6MnGqa1DI"
      },
      "source": [
        "# 2 lendo e separando os dados"
      ]
    },
    {
      "cell_type": "markdown",
      "metadata": {
        "id": "rhQJhs-HbJHu"
      },
      "source": [
        "importando bibliotecas"
      ]
    },
    {
      "cell_type": "code",
      "metadata": {
        "colab": {
          "base_uri": "https://localhost:8080/"
        },
        "id": "loqixnfea0fw",
        "outputId": "40d83ebf-1e06-46f5-94ad-2ecb7cc45566"
      },
      "source": [
        "import spacy\n",
        "import csv\n",
        "import os\n",
        "\n",
        "import pandas as pd\n",
        "import numpy as np\n",
        "import matplotlib.pyplot as plt\n",
        "\n",
        "from scipy import spatial\n",
        "import nltk\n",
        "nltk.download('stopwords')\n",
        "\n",
        "from nltk.tokenize import word_tokenize\n",
        "from keras.preprocessing.sequence import pad_sequences\n",
        "from keras.utils.np_utils import to_categorical\n",
        "\n",
        "from keras.layers.embeddings import Embedding\n",
        "from keras.layers import Flatten, LSTM, Conv1D, MaxPooling1D, Dropout, Activation\n",
        "from keras.layers import Input, Dense\n",
        "from keras.models import Sequential\n",
        "\n",
        "from sklearn.metrics import classification_report\n",
        "from sklearn import preprocessing\n",
        "from sklearn.model_selection import train_test_split\n",
        "from sklearn.manifold import TSNE\n"
      ],
      "execution_count": 8,
      "outputs": [
        {
          "output_type": "stream",
          "text": [
            "[nltk_data] Downloading package stopwords to /root/nltk_data...\n",
            "[nltk_data]   Package stopwords is already up-to-date!\n"
          ],
          "name": "stdout"
        }
      ]
    },
    {
      "cell_type": "markdown",
      "metadata": {
        "id": "yYeXB7jjdPm0"
      },
      "source": [
        "dados de treino e teste"
      ]
    },
    {
      "cell_type": "code",
      "metadata": {
        "id": "kpTRZXBwbLd5"
      },
      "source": [
        "train = pd.read_csv(\"atis_intents_train.csv\", header=None)\n",
        "test = pd.read_csv(\"atis_intents_test.csv\", header=None)"
      ],
      "execution_count": 9,
      "outputs": []
    },
    {
      "cell_type": "markdown",
      "metadata": {
        "id": "fT37iL89jhgm"
      },
      "source": [
        "# 3 pre-processamento"
      ]
    },
    {
      "cell_type": "markdown",
      "metadata": {
        "id": "1IuQEJYgkwD0"
      },
      "source": [
        "stop words"
      ]
    },
    {
      "cell_type": "code",
      "metadata": {
        "colab": {
          "base_uri": "https://localhost:8080/"
        },
        "id": "TtG31KC-jkM2",
        "outputId": "8305b0ae-c14b-4c16-9bdc-cff6d2ebd5ea"
      },
      "source": [
        "from nltk.corpus import stopwords\n",
        "words = set(stopwords.words(\"english\"))\n",
        "print(words)"
      ],
      "execution_count": 10,
      "outputs": [
        {
          "output_type": "stream",
          "text": [
            "{'off', 'it', 'your', \"it's\", 'they', 'having', 'there', 'each', 'before', 'own', 'shan', \"weren't\", \"wasn't\", 'ourselves', 'above', 'at', 'than', 'no', 'are', 'below', 'up', 'any', \"you're\", 'that', \"you've\", 'so', 'ain', 'shouldn', 'a', 'm', 'am', 'couldn', 'wasn', 'weren', 'has', 'just', 'mightn', 'don', 'hasn', 'you', 'her', 'needn', 'can', 'our', 'why', 'yourself', 'she', 'under', 'themselves', 'i', 'other', 'out', \"didn't\", 'how', \"shouldn't\", \"should've\", 'wouldn', 've', 'ma', 'does', 'about', \"mightn't\", 'and', 'them', 'been', \"haven't\", \"you'd\", 'once', 'during', 'or', 'into', 'nor', 'some', 'the', 'in', 'were', 'who', 'haven', 'we', \"hadn't\", 'him', 'an', 'down', 'myself', 'same', 'doing', 'too', 'while', 'my', 'its', 'but', 'with', 'which', 'do', 'what', \"that'll\", 'yours', 'these', 'their', 'doesn', \"she's\", 'again', 'then', \"won't\", 'such', 'himself', 'few', 'had', \"aren't\", 'is', 'from', 'more', 'aren', 'me', 'mustn', 'theirs', 'here', 'will', 'being', 'o', \"wouldn't\", 'of', 'for', \"don't\", 'through', 'most', 'y', 'not', \"you'll\", 'he', 'as', 'll', 'ours', 'over', 're', 'because', 'when', 'both', \"mustn't\", 'hers', 'hadn', 'was', \"shan't\", 'herself', 'those', 'his', \"hasn't\", 'be', 'should', 't', 'itself', \"isn't\", 's', 'this', 'have', 'whom', 'did', 'by', 'between', 'now', 'if', 'only', 'yourselves', 'after', 'very', 'didn', 'further', \"doesn't\", 'on', 'where', 'won', 'isn', \"couldn't\", 'to', 'd', 'all', 'against', 'until', \"needn't\"}\n"
          ],
          "name": "stdout"
        }
      ]
    },
    {
      "cell_type": "code",
      "metadata": {
        "id": "8gMmJxT2kYQ6"
      },
      "source": [
        "train['text'] = train[1].apply(lambda x: ' '.join([word for word in x.split() if word not in (words)]))\n",
        "test['text'] = test[1].apply(lambda x: ' '.join([word for word in x.split() if word not in (words)]))\n",
        "\n",
        "train['text'] = train['text'].str.replace('\\d+', '')\n",
        "test['text'] = test['text'].str.replace('\\d+', '')"
      ],
      "execution_count": 11,
      "outputs": []
    },
    {
      "cell_type": "code",
      "metadata": {
        "id": "yO7q-SD9k4rh"
      },
      "source": [
        "text = train['text']\n",
        "labels = train[0]\n",
        "test_text = test['text']\n",
        "test_labels = test[0]"
      ],
      "execution_count": 12,
      "outputs": []
    },
    {
      "cell_type": "code",
      "metadata": {
        "colab": {
          "base_uri": "https://localhost:8080/",
          "height": 206
        },
        "id": "Wzyo5Jlrk96R",
        "outputId": "da478a61-9d50-4ac7-d5fe-8da3cfaa9237"
      },
      "source": [
        "train.head()"
      ],
      "execution_count": 13,
      "outputs": [
        {
          "output_type": "execute_result",
          "data": {
            "text/html": [
              "<div>\n",
              "<style scoped>\n",
              "    .dataframe tbody tr th:only-of-type {\n",
              "        vertical-align: middle;\n",
              "    }\n",
              "\n",
              "    .dataframe tbody tr th {\n",
              "        vertical-align: top;\n",
              "    }\n",
              "\n",
              "    .dataframe thead th {\n",
              "        text-align: right;\n",
              "    }\n",
              "</style>\n",
              "<table border=\"1\" class=\"dataframe\">\n",
              "  <thead>\n",
              "    <tr style=\"text-align: right;\">\n",
              "      <th></th>\n",
              "      <th>0</th>\n",
              "      <th>1</th>\n",
              "      <th>text</th>\n",
              "    </tr>\n",
              "  </thead>\n",
              "  <tbody>\n",
              "    <tr>\n",
              "      <th>0</th>\n",
              "      <td>atis_flight</td>\n",
              "      <td>i want to fly from boston at 838 am and arriv...</td>\n",
              "      <td>want fly boston  arrive denver  morning</td>\n",
              "    </tr>\n",
              "    <tr>\n",
              "      <th>1</th>\n",
              "      <td>atis_flight</td>\n",
              "      <td>what flights are available from pittsburgh to...</td>\n",
              "      <td>flights available pittsburgh baltimore thursda...</td>\n",
              "    </tr>\n",
              "    <tr>\n",
              "      <th>2</th>\n",
              "      <td>atis_flight_time</td>\n",
              "      <td>what is the arrival time in san francisco for...</td>\n",
              "      <td>arrival time san francisco  flight leaving was...</td>\n",
              "    </tr>\n",
              "    <tr>\n",
              "      <th>3</th>\n",
              "      <td>atis_airfare</td>\n",
              "      <td>cheapest airfare from tacoma to orlando</td>\n",
              "      <td>cheapest airfare tacoma orlando</td>\n",
              "    </tr>\n",
              "    <tr>\n",
              "      <th>4</th>\n",
              "      <td>atis_airfare</td>\n",
              "      <td>round trip fares from pittsburgh to philadelp...</td>\n",
              "      <td>round trip fares pittsburgh philadelphia  dollars</td>\n",
              "    </tr>\n",
              "  </tbody>\n",
              "</table>\n",
              "</div>"
            ],
            "text/plain": [
              "                  0  ...                                               text\n",
              "0       atis_flight  ...            want fly boston  arrive denver  morning\n",
              "1       atis_flight  ...  flights available pittsburgh baltimore thursda...\n",
              "2  atis_flight_time  ...  arrival time san francisco  flight leaving was...\n",
              "3      atis_airfare  ...                    cheapest airfare tacoma orlando\n",
              "4      atis_airfare  ...  round trip fares pittsburgh philadelphia  dollars\n",
              "\n",
              "[5 rows x 3 columns]"
            ]
          },
          "metadata": {
            "tags": []
          },
          "execution_count": 13
        }
      ]
    },
    {
      "cell_type": "markdown",
      "metadata": {
        "id": "1-ahhod3mXn1"
      },
      "source": [
        "# 4 vetorizando palavras"
      ]
    },
    {
      "cell_type": "code",
      "metadata": {
        "id": "ZUw7kabpmP3Z"
      },
      "source": [
        "from keras.preprocessing.text import Tokenizer\n",
        "tok = Tokenizer()\n",
        "tok.fit_on_texts(text)\n",
        "word_index = tok.word_index"
      ],
      "execution_count": 14,
      "outputs": []
    },
    {
      "cell_type": "code",
      "metadata": {
        "colab": {
          "base_uri": "https://localhost:8080/"
        },
        "id": "u3h3DiREmpC0",
        "outputId": "10b5d701-8259-43ea-f931-a3fc0eff9822"
      },
      "source": [
        "word_index['plane']"
      ],
      "execution_count": 54,
      "outputs": [
        {
          "output_type": "execute_result",
          "data": {
            "text/plain": [
              "227"
            ]
          },
          "metadata": {
            "tags": []
          },
          "execution_count": 54
        }
      ]
    },
    {
      "cell_type": "code",
      "metadata": {
        "id": "1TBBw4PUmdzz"
      },
      "source": [
        "max_vocab_size = len(word_index) + 1\n",
        "input_length = 25"
      ],
      "execution_count": 16,
      "outputs": []
    },
    {
      "cell_type": "code",
      "metadata": {
        "id": "lW6UpnzPmgeb"
      },
      "source": [
        "train_data_tokens = tok.texts_to_sequences(text)\n",
        "test_data_tokens = tok.texts_to_sequences(test_text)"
      ],
      "execution_count": 17,
      "outputs": []
    },
    {
      "cell_type": "code",
      "metadata": {
        "id": "RMqrQ4SymiOe"
      },
      "source": [
        "train_input = pad_sequences(train_data_tokens, input_length)\n",
        "test_input = pad_sequences(test_data_tokens, input_length)"
      ],
      "execution_count": 18,
      "outputs": []
    },
    {
      "cell_type": "markdown",
      "metadata": {
        "id": "ELQOpSUsm02g"
      },
      "source": [
        "# 5 codificando os rotulos"
      ]
    },
    {
      "cell_type": "code",
      "metadata": {
        "colab": {
          "base_uri": "https://localhost:8080/"
        },
        "id": "1Bn5NC3Om2zg",
        "outputId": "7acd0691-507e-45e3-9fcc-3142c560b578"
      },
      "source": [
        "a = labels\n",
        "\n",
        "label_transformer = preprocessing.LabelEncoder()\n",
        "label_transformer.fit(labels)"
      ],
      "execution_count": 19,
      "outputs": [
        {
          "output_type": "execute_result",
          "data": {
            "text/plain": [
              "LabelEncoder()"
            ]
          },
          "metadata": {
            "tags": []
          },
          "execution_count": 19
        }
      ]
    },
    {
      "cell_type": "code",
      "metadata": {
        "id": "q2eNRCDcm8Nq"
      },
      "source": [
        "labels = label_transformer.transform(labels)\n",
        "b = labels\n",
        "test_labels = label_transformer.transform(test_labels)\n",
        "c = labels"
      ],
      "execution_count": 20,
      "outputs": []
    },
    {
      "cell_type": "code",
      "metadata": {
        "id": "iM_kmpSonEh6"
      },
      "source": [
        "labels = to_categorical(np.asarray(labels))\n",
        "d = labels\n",
        "test_labels = to_categorical(np.asarray(test_labels))"
      ],
      "execution_count": 21,
      "outputs": []
    },
    {
      "cell_type": "code",
      "metadata": {
        "colab": {
          "base_uri": "https://localhost:8080/"
        },
        "id": "lhtvfbLlnHkK",
        "outputId": "a7c943fc-0f51-4838-c1f4-33355a343b78"
      },
      "source": [
        "labels"
      ],
      "execution_count": 22,
      "outputs": [
        {
          "output_type": "execute_result",
          "data": {
            "text/plain": [
              "array([[0., 0., 0., ..., 0., 0., 0.],\n",
              "       [0., 0., 0., ..., 0., 0., 0.],\n",
              "       [0., 0., 0., ..., 1., 0., 0.],\n",
              "       ...,\n",
              "       [0., 0., 0., ..., 0., 0., 0.],\n",
              "       [0., 0., 0., ..., 0., 0., 0.],\n",
              "       [0., 0., 0., ..., 0., 0., 0.]], dtype=float32)"
            ]
          },
          "metadata": {
            "tags": []
          },
          "execution_count": 22
        }
      ]
    },
    {
      "cell_type": "markdown",
      "metadata": {
        "id": "g2jEbbA5nM4n"
      },
      "source": [
        "# 6 separação de treino e teste (para treinamento)"
      ]
    },
    {
      "cell_type": "code",
      "metadata": {
        "colab": {
          "base_uri": "https://localhost:8080/"
        },
        "id": "t4ll7077nPgK",
        "outputId": "c4fec6fc-ed7e-45f3-e114-2544a51ac02b"
      },
      "source": [
        "X_train, X_val, y_train, y_val = train_test_split(train_input, labels, test_size=0.2, random_state=42)\n",
        "X_train"
      ],
      "execution_count": 23,
      "outputs": [
        {
          "output_type": "execute_result",
          "data": {
            "text/plain": [
              "array([[  0,   0,   0, ...,  52, 477, 139],\n",
              "       [  0,   0,   0, ..., 105,  50,  64],\n",
              "       [  0,   0,   0, ...,   5,   7,   3],\n",
              "       ...,\n",
              "       [  0,   0,   0, ...,   2,  10,   9],\n",
              "       [  0,   0,   0, ..., 218, 137,  93],\n",
              "       [  0,   0,   0, ...,  42,  46,   3]], dtype=int32)"
            ]
          },
          "metadata": {
            "tags": []
          },
          "execution_count": 23
        }
      ]
    },
    {
      "cell_type": "markdown",
      "metadata": {
        "id": "3JPpBPUynfNw"
      },
      "source": [
        "# 7 deep learning"
      ]
    },
    {
      "cell_type": "code",
      "metadata": {
        "id": "i8cBcThyoGuU"
      },
      "source": [
        "model = Sequential()\n",
        "model.add(Embedding(max_vocab_size, 300, input_length=input_length, trainable=False))\n",
        "model.add(Conv1D(filters=32, kernel_size=8, activation='selu'))\n",
        "model.add(MaxPooling1D(pool_size=2))\n",
        "model.add(Flatten())\n",
        "model.add(Dense(10, activation='selu'))\n",
        "model.add(Dense(8, activation='sigmoid'))"
      ],
      "execution_count": 36,
      "outputs": []
    },
    {
      "cell_type": "code",
      "metadata": {
        "colab": {
          "base_uri": "https://localhost:8080/"
        },
        "id": "UVZfOrCOoJGp",
        "outputId": "4b560c6f-9fff-4adf-fc43-c69e8afc8dcf"
      },
      "source": [
        "model.summary()"
      ],
      "execution_count": 37,
      "outputs": [
        {
          "output_type": "stream",
          "text": [
            "Model: \"sequential_1\"\n",
            "_________________________________________________________________\n",
            "Layer (type)                 Output Shape              Param #   \n",
            "=================================================================\n",
            "embedding_1 (Embedding)      (None, 25, 300)           189600    \n",
            "_________________________________________________________________\n",
            "conv1d_1 (Conv1D)            (None, 18, 32)            76832     \n",
            "_________________________________________________________________\n",
            "max_pooling1d_1 (MaxPooling1 (None, 9, 32)             0         \n",
            "_________________________________________________________________\n",
            "flatten_1 (Flatten)          (None, 288)               0         \n",
            "_________________________________________________________________\n",
            "dense_2 (Dense)              (None, 10)                2890      \n",
            "_________________________________________________________________\n",
            "dense_3 (Dense)              (None, 8)                 88        \n",
            "=================================================================\n",
            "Total params: 269,410\n",
            "Trainable params: 79,810\n",
            "Non-trainable params: 189,600\n",
            "_________________________________________________________________\n"
          ],
          "name": "stdout"
        }
      ]
    },
    {
      "cell_type": "code",
      "metadata": {
        "colab": {
          "base_uri": "https://localhost:8080/"
        },
        "id": "UkGpNEC1oMUs",
        "outputId": "2afbcc9d-3f50-4916-82e6-b27f675be874"
      },
      "source": [
        "model.compile(loss='categorical_crossentropy', optimizer='adam', metrics=['accuracy'])\n",
        "model.fit(X_train, y_train, epochs=6, verbose=1)"
      ],
      "execution_count": 38,
      "outputs": [
        {
          "output_type": "stream",
          "text": [
            "Epoch 1/6\n",
            "121/121 [==============================] - 2s 9ms/step - loss: 1.0786 - accuracy: 0.7262\n",
            "Epoch 2/6\n",
            "121/121 [==============================] - 1s 9ms/step - loss: 0.6141 - accuracy: 0.8318\n",
            "Epoch 3/6\n",
            "121/121 [==============================] - 1s 9ms/step - loss: 0.4242 - accuracy: 0.8947\n",
            "Epoch 4/6\n",
            "121/121 [==============================] - 1s 9ms/step - loss: 0.3237 - accuracy: 0.9138\n",
            "Epoch 5/6\n",
            "121/121 [==============================] - 1s 9ms/step - loss: 0.2614 - accuracy: 0.9297\n",
            "Epoch 6/6\n",
            "121/121 [==============================] - 1s 9ms/step - loss: 0.1732 - accuracy: 0.9591\n"
          ],
          "name": "stdout"
        },
        {
          "output_type": "execute_result",
          "data": {
            "text/plain": [
              "<keras.callbacks.History at 0x7f3d9dc28e90>"
            ]
          },
          "metadata": {
            "tags": []
          },
          "execution_count": 38
        }
      ]
    },
    {
      "cell_type": "code",
      "metadata": {
        "colab": {
          "base_uri": "https://localhost:8080/"
        },
        "id": "-DQ9MT-WoMza",
        "outputId": "a175141a-dd67-4f93-a646-6d9a6f1bfbfe"
      },
      "source": [
        "model.evaluate(X_val, y_val)"
      ],
      "execution_count": 39,
      "outputs": [
        {
          "output_type": "stream",
          "text": [
            "31/31 [==============================] - 0s 4ms/step - loss: 0.2421 - accuracy: 0.9307\n"
          ],
          "name": "stdout"
        },
        {
          "output_type": "execute_result",
          "data": {
            "text/plain": [
              "[0.2420656830072403, 0.9307135343551636]"
            ]
          },
          "metadata": {
            "tags": []
          },
          "execution_count": 39
        }
      ]
    },
    {
      "cell_type": "code",
      "metadata": {
        "id": "A8oKg2h5oOOT"
      },
      "source": [
        "predictions = model.predict(test_input)"
      ],
      "execution_count": 40,
      "outputs": []
    },
    {
      "cell_type": "code",
      "metadata": {
        "colab": {
          "base_uri": "https://localhost:8080/"
        },
        "id": "d2M1k4BPoRqE",
        "outputId": "185f7a3c-03bb-4b4c-f07a-be21d51a2be0"
      },
      "source": [
        "def acc(y_true, y_pred):\n",
        "    return np.equal(np.argmax(y_true, axis=-1), np.argmax(y_pred, axis=-1)).mean()\n",
        "\n",
        "print(acc(test_labels, predictions))"
      ],
      "execution_count": 41,
      "outputs": [
        {
          "output_type": "stream",
          "text": [
            "0.94375\n"
          ],
          "name": "stdout"
        }
      ]
    },
    {
      "cell_type": "code",
      "metadata": {
        "id": "CTIqrV8koqOF"
      },
      "source": [
        "def get_intent(sentence):\n",
        "  data = [[sentence]]\n",
        "  df = pd.DataFrame(data)\n",
        "  entrada = df[0].apply(lambda x: ' '.join([word for word in x.split() if word not in (words)]))\n",
        "  entrada = tok.texts_to_sequences(entrada)\n",
        "  entrada = pad_sequences(entrada, input_length)\n",
        "  prediction = model.predict(entrada)\n",
        "  # return np.argmin(prediction)\n",
        "  return a[np.where(b == np.argmax(prediction))[0][0]]"
      ],
      "execution_count": 42,
      "outputs": []
    },
    {
      "cell_type": "markdown",
      "metadata": {
        "id": "xLH6ugIvxb7I"
      },
      "source": [
        "#  8 intencoes"
      ]
    },
    {
      "cell_type": "code",
      "metadata": {
        "colab": {
          "base_uri": "https://localhost:8080/",
          "height": 35
        },
        "id": "8CDn5mBBprw7",
        "outputId": "9a63cfb7-b13c-48e8-d187-8ebac2ec37cb"
      },
      "source": [
        "get_intent(\"what kinds of planes are used by american airlines\")"
      ],
      "execution_count": 44,
      "outputs": [
        {
          "output_type": "execute_result",
          "data": {
            "application/vnd.google.colaboratory.intrinsic+json": {
              "type": "string"
            },
            "text/plain": [
              "'atis_aircraft'"
            ]
          },
          "metadata": {
            "tags": []
          },
          "execution_count": 44
        }
      ]
    },
    {
      "cell_type": "code",
      "metadata": {
        "colab": {
          "base_uri": "https://localhost:8080/",
          "height": 35
        },
        "id": "w_Q5YSLLv_NN",
        "outputId": "c0711a83-bf72-4fef-d5b8-e282d0adde9d"
      },
      "source": [
        "get_intent(\"show me the first class fares from boston to denver\")"
      ],
      "execution_count": 45,
      "outputs": [
        {
          "output_type": "execute_result",
          "data": {
            "application/vnd.google.colaboratory.intrinsic+json": {
              "type": "string"
            },
            "text/plain": [
              "'atis_airfare'"
            ]
          },
          "metadata": {
            "tags": []
          },
          "execution_count": 45
        }
      ]
    },
    {
      "cell_type": "code",
      "metadata": {
        "colab": {
          "base_uri": "https://localhost:8080/",
          "height": 35
        },
        "id": "MeUNHDcswDKc",
        "outputId": "d330b6b7-4442-4711-9223-a09e51f06044"
      },
      "source": [
        "get_intent(\"show me the flights from boston to denver\")"
      ],
      "execution_count": 46,
      "outputs": [
        {
          "output_type": "execute_result",
          "data": {
            "application/vnd.google.colaboratory.intrinsic+json": {
              "type": "string"
            },
            "text/plain": [
              "'atis_flight'"
            ]
          },
          "metadata": {
            "tags": []
          },
          "execution_count": 46
        }
      ]
    },
    {
      "cell_type": "markdown",
      "metadata": {
        "id": "CZCwm4e-6Z4f"
      },
      "source": [
        "# 9 generating responses"
      ]
    },
    {
      "cell_type": "code",
      "metadata": {
        "id": "KE8eTJjD7xLu",
        "outputId": "728ca812-7e1d-440d-90b8-a9c2080f4597",
        "colab": {
          "base_uri": "https://localhost:8080/"
        }
      },
      "source": [
        "intents = {}\n",
        "for i in range(8):\n",
        "  intents.update({a[np.where(b == i)[0][0]]: []})\n",
        "\n",
        "intents['atis_abbreviation'].append(\"it means ____\")\n",
        "intents['atis_aircraft'].append(\"the aircraft used is ______\")\n",
        "intents['atis_airfare'].append(\"the price is ______\")\n",
        "intents['atis_airfare'].append(\"the price in _______ can vary from ______ to _____\")\n",
        "intents['atis_airfare'].append(\"the price in ______ is\")\n",
        "intents['atis_airfare'].append(\"the price is ______\")\n",
        "intents['atis_airline'].append(\"the airline is _____\")\n",
        "intents['atis_flight'].append(\"the available flights are _____\")\n",
        "intents['atis_flight_time'].append(\"the time is _____\")\n",
        "intents['atis_ground_service'].append(\"the service will be _____ available at ______\")\n",
        "intents['atis_quantity'].append(\"there are at least _______\")\n",
        "\n",
        "intents"
      ],
      "execution_count": 75,
      "outputs": [
        {
          "output_type": "execute_result",
          "data": {
            "text/plain": [
              "{'atis_abbreviation': ['it means ____'],\n",
              " 'atis_aircraft': ['the aircraft used is ______'],\n",
              " 'atis_airfare': ['the price is ______',\n",
              "  'the price in _______ can vary from ______ to _____',\n",
              "  'the price in ______ is',\n",
              "  'the price is ______'],\n",
              " 'atis_airline': ['the airline is _____'],\n",
              " 'atis_flight': ['the available flights are _____'],\n",
              " 'atis_flight_time': ['the time is _____'],\n",
              " 'atis_ground_service': ['the service will be _____ available at ______'],\n",
              " 'atis_quantity': ['there are at least _______']}"
            ]
          },
          "metadata": {
            "tags": []
          },
          "execution_count": 75
        }
      ]
    },
    {
      "cell_type": "code",
      "metadata": {
        "id": "TYaBHiUSAdjM",
        "outputId": "d3a7c757-ac62-47e3-e037-26e9fda9a29c",
        "colab": {
          "base_uri": "https://localhost:8080/"
        }
      },
      "source": [
        "! pip install termcolor\n",
        "from termcolor import colored\n"
      ],
      "execution_count": 92,
      "outputs": [
        {
          "output_type": "stream",
          "text": [
            "Requirement already satisfied: termcolor in /usr/local/lib/python3.7/dist-packages (1.1.0)\n"
          ],
          "name": "stdout"
        }
      ]
    },
    {
      "cell_type": "code",
      "metadata": {
        "id": "AfIFUfkA79Pk"
      },
      "source": [
        "import random\n",
        "def response(text):\n",
        "  intent = get_intent(text)\n",
        "  print(colored(intent, 'red'))\n",
        "  print(colored(\"BOT: \" + random.choice(intents[intent]), 'green'))"
      ],
      "execution_count": 99,
      "outputs": []
    },
    {
      "cell_type": "code",
      "metadata": {
        "id": "thRj3Nid9I47",
        "outputId": "feffdbfa-1a0d-498d-bf7b-3868b344a61e",
        "colab": {
          "base_uri": "https://localhost:8080/"
        }
      },
      "source": [
        "entrada = input(\"YOU: \")\n",
        "response(entrada)"
      ],
      "execution_count": 100,
      "outputs": [
        {
          "output_type": "stream",
          "text": [
            "YOU: which flights are available from denver to new mexico\n",
            "\u001b[31matis_flight\u001b[0m\n",
            "\u001b[32mBOT: the available flights are _____\u001b[0m\n"
          ],
          "name": "stdout"
        }
      ]
    },
    {
      "cell_type": "code",
      "metadata": {
        "id": "JGtgxktnCQJ1"
      },
      "source": [
        ""
      ],
      "execution_count": 100,
      "outputs": []
    }
  ]
}