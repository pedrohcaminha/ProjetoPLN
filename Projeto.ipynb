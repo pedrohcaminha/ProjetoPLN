{
  "nbformat": 4,
  "nbformat_minor": 0,
  "metadata": {
    "colab": {
      "name": "Projeto.ipynb",
      "provenance": [],
      "include_colab_link": true
    },
    "kernelspec": {
      "name": "python3",
      "display_name": "Python 3"
    },
    "language_info": {
      "name": "python"
    }
  },
  "cells": [
    {
      "cell_type": "markdown",
      "metadata": {
        "id": "view-in-github",
        "colab_type": "text"
      },
      "source": [
        "<a href=\"https://colab.research.google.com/github/pedrohcaminha/ProjetoPLN/blob/main/Projeto.ipynb\" target=\"_parent\"><img src=\"https://colab.research.google.com/assets/colab-badge.svg\" alt=\"Open In Colab\"/></a>"
      ]
    },
    {
      "cell_type": "markdown",
      "metadata": {
        "id": "S-MWaBDRaxIl"
      },
      "source": [
        "# 1 baixando os dados"
      ]
    },
    {
      "cell_type": "code",
      "metadata": {
        "colab": {
          "base_uri": "https://localhost:8080/"
        },
        "id": "1OHFYO2kaF__",
        "outputId": "d3dc3f47-8dc3-41d2-d676-a1de1acc0b38"
      },
      "source": [
        "! pip install kaggle"
      ],
      "execution_count": 14,
      "outputs": [
        {
          "output_type": "stream",
          "text": [
            "Requirement already satisfied: kaggle in /usr/local/lib/python3.7/dist-packages (1.5.12)\n",
            "Requirement already satisfied: requests in /usr/local/lib/python3.7/dist-packages (from kaggle) (2.23.0)\n",
            "Requirement already satisfied: six>=1.10 in /usr/local/lib/python3.7/dist-packages (from kaggle) (1.15.0)\n",
            "Requirement already satisfied: python-slugify in /usr/local/lib/python3.7/dist-packages (from kaggle) (5.0.2)\n",
            "Requirement already satisfied: python-dateutil in /usr/local/lib/python3.7/dist-packages (from kaggle) (2.8.1)\n",
            "Requirement already satisfied: urllib3 in /usr/local/lib/python3.7/dist-packages (from kaggle) (1.24.3)\n",
            "Requirement already satisfied: tqdm in /usr/local/lib/python3.7/dist-packages (from kaggle) (4.41.1)\n",
            "Requirement already satisfied: certifi in /usr/local/lib/python3.7/dist-packages (from kaggle) (2021.5.30)\n",
            "Requirement already satisfied: idna<3,>=2.5 in /usr/local/lib/python3.7/dist-packages (from requests->kaggle) (2.10)\n",
            "Requirement already satisfied: chardet<4,>=3.0.2 in /usr/local/lib/python3.7/dist-packages (from requests->kaggle) (3.0.4)\n",
            "Requirement already satisfied: text-unidecode>=1.3 in /usr/local/lib/python3.7/dist-packages (from python-slugify->kaggle) (1.3)\n"
          ],
          "name": "stdout"
        }
      ]
    },
    {
      "cell_type": "code",
      "metadata": {
        "colab": {
          "base_uri": "https://localhost:8080/"
        },
        "id": "Ye7f2iknaF9Y",
        "outputId": "e5f59c84-0bae-4f0f-c383-c8c9c605e3a7"
      },
      "source": [
        "! mkdir ~/.kaggle"
      ],
      "execution_count": 15,
      "outputs": [
        {
          "output_type": "stream",
          "text": [
            "mkdir: cannot create directory ‘/root/.kaggle’: File exists\n"
          ],
          "name": "stdout"
        }
      ]
    },
    {
      "cell_type": "markdown",
      "metadata": {
        "id": "n1DEkj-eazSI"
      },
      "source": [
        ""
      ]
    },
    {
      "cell_type": "code",
      "metadata": {
        "id": "mDon9SKDaF6p"
      },
      "source": [
        "! cp kaggle.json ~/.kaggle/"
      ],
      "execution_count": 16,
      "outputs": []
    },
    {
      "cell_type": "code",
      "metadata": {
        "id": "TuAmWLpjaF3-"
      },
      "source": [
        "! chmod 600 ~/.kaggle/kaggle.json"
      ],
      "execution_count": 17,
      "outputs": []
    },
    {
      "cell_type": "code",
      "metadata": {
        "colab": {
          "base_uri": "https://localhost:8080/"
        },
        "id": "B5H77OXHYq7q",
        "outputId": "e76a93ff-b45e-41bd-9533-09b5b4f59637"
      },
      "source": [
        "! kaggle datasets download hassanamin/atis-airlinetravelinformationsystem"
      ],
      "execution_count": 18,
      "outputs": [
        {
          "output_type": "stream",
          "text": [
            "Downloading atis-airlinetravelinformationsystem.zip to /content\n",
            "\r  0% 0.00/139k [00:00<?, ?B/s]\n",
            "\r100% 139k/139k [00:00<00:00, 46.6MB/s]\n"
          ],
          "name": "stdout"
        }
      ]
    },
    {
      "cell_type": "code",
      "metadata": {
        "colab": {
          "base_uri": "https://localhost:8080/"
        },
        "id": "txSUxUbcaZeT",
        "outputId": "e23c5392-27cd-4308-f21d-9c4b6389222f"
      },
      "source": [
        "! unzip atis-airlinetravelinformationsystem.zip"
      ],
      "execution_count": 19,
      "outputs": [
        {
          "output_type": "stream",
          "text": [
            "Archive:  atis-airlinetravelinformationsystem.zip\n",
            "  inflating: atis_intents.csv        \n",
            "  inflating: atis_intents_test.csv   \n",
            "  inflating: atis_intents_train.csv  \n"
          ],
          "name": "stdout"
        }
      ]
    },
    {
      "cell_type": "code",
      "metadata": {
        "colab": {
          "base_uri": "https://localhost:8080/"
        },
        "id": "FXM0ncahak-S",
        "outputId": "2b658091-e632-4a56-fa03-fb14cfd014c1"
      },
      "source": [
        "! ls"
      ],
      "execution_count": 20,
      "outputs": [
        {
          "output_type": "stream",
          "text": [
            "atis-airlinetravelinformationsystem.zip  atis_intents_test.csv\t kaggle.json\n",
            "atis_intents.csv\t\t\t atis_intents_train.csv  sample_data\n"
          ],
          "name": "stdout"
        }
      ]
    },
    {
      "cell_type": "markdown",
      "metadata": {
        "id": "shU6MnGqa1DI"
      },
      "source": [
        "# 2 lendo e separando os dados"
      ]
    },
    {
      "cell_type": "markdown",
      "metadata": {
        "id": "rhQJhs-HbJHu"
      },
      "source": [
        "importando bibliotecas"
      ]
    },
    {
      "cell_type": "code",
      "metadata": {
        "colab": {
          "base_uri": "https://localhost:8080/"
        },
        "id": "loqixnfea0fw",
        "outputId": "88da3b9b-efc3-4185-a7ec-ab4c16f59376"
      },
      "source": [
        "import spacy\n",
        "import csv\n",
        "import os\n",
        "\n",
        "import pandas as pd\n",
        "import numpy as np\n",
        "import matplotlib.pyplot as plt\n",
        "\n",
        "from scipy import spatial\n",
        "import nltk\n",
        "nltk.download('stopwords')\n",
        "\n",
        "from nltk.tokenize import word_tokenize\n",
        "from keras.preprocessing.sequence import pad_sequences\n",
        "from keras.utils.np_utils import to_categorical\n",
        "\n",
        "from keras.layers.embeddings import Embedding\n",
        "from keras.layers import Flatten, LSTM, Conv1D, MaxPooling1D, Dropout, Activation\n",
        "from keras.layers import Input, Dense\n",
        "from keras.models import Sequential\n",
        "\n",
        "from sklearn.metrics import classification_report\n",
        "from sklearn import preprocessing\n",
        "from sklearn.model_selection import train_test_split\n",
        "from sklearn.manifold import TSNE\n"
      ],
      "execution_count": 21,
      "outputs": [
        {
          "output_type": "stream",
          "text": [
            "[nltk_data] Downloading package stopwords to /root/nltk_data...\n",
            "[nltk_data]   Package stopwords is already up-to-date!\n"
          ],
          "name": "stdout"
        }
      ]
    },
    {
      "cell_type": "markdown",
      "metadata": {
        "id": "yYeXB7jjdPm0"
      },
      "source": [
        "dados de treino e teste"
      ]
    },
    {
      "cell_type": "code",
      "metadata": {
        "id": "kpTRZXBwbLd5"
      },
      "source": [
        "train = pd.read_csv(\"atis_intents_train.csv\", header=None)\n",
        "test = pd.read_csv(\"atis_intents_test.csv\", header=None)"
      ],
      "execution_count": 22,
      "outputs": []
    },
    {
      "cell_type": "markdown",
      "metadata": {
        "id": "fT37iL89jhgm"
      },
      "source": [
        "# 3 pre-processamento"
      ]
    },
    {
      "cell_type": "markdown",
      "metadata": {
        "id": "1IuQEJYgkwD0"
      },
      "source": [
        "stop words"
      ]
    },
    {
      "cell_type": "code",
      "metadata": {
        "colab": {
          "base_uri": "https://localhost:8080/"
        },
        "id": "TtG31KC-jkM2",
        "outputId": "b2a277ed-2635-4d99-dd3f-9fad9cfec505"
      },
      "source": [
        "from nltk.corpus import stopwords\n",
        "words = set(stopwords.words(\"english\"))\n",
        "print(words)"
      ],
      "execution_count": 23,
      "outputs": [
        {
          "output_type": "stream",
          "text": [
            "{'how', 'hasn', 'y', 'only', 'just', 'from', 'haven', 'some', \"doesn't\", 'my', 'our', 'an', 't', 'shouldn', 'she', \"that'll\", 'against', \"you'd\", 'whom', 've', 'below', 'not', 'down', 'himself', 'his', 'shan', 'with', \"it's\", 'a', 'more', 'her', 'him', 'yours', 'until', 'at', 'again', 'than', 'doesn', 'have', 'where', 'herself', 'or', 'so', \"shouldn't\", \"mightn't\", 'its', 'why', 'both', 'which', 'who', 'these', \"wasn't\", 'too', 'd', 'should', 'yourself', 'are', 'their', 'i', 'own', 'do', 'been', 'was', 'am', 'for', 'needn', 'wouldn', 'over', 'few', 'nor', 'can', 'having', 'through', 'itself', 'you', 'other', \"won't\", 'after', 'any', 'to', 'were', 'into', 'while', 'off', 'before', \"mustn't\", 'hers', 'once', 'me', 'aren', 'o', 'he', \"aren't\", 'because', 'that', 'ma', 'don', 'couldn', 's', 'on', \"you've\", \"didn't\", \"needn't\", 'did', 'all', 'we', \"shan't\", 'won', 'during', 'had', 'mightn', 're', 'between', 'no', \"couldn't\", 'those', 'doing', 'further', 'each', 'most', 'very', 'weren', 'hadn', 'theirs', 'above', 'mustn', 'when', 'up', 'they', 'then', 'under', 'm', 'but', \"wouldn't\", 'by', 'it', 'isn', 'in', 'your', \"don't\", 'ours', 'being', 'the', 'yourselves', \"should've\", 'will', 'as', 'here', 'themselves', 'ourselves', 'out', 'be', 'now', 'same', 'such', 'and', \"hadn't\", \"haven't\", \"you'll\", 'll', 'didn', 'if', \"hasn't\", \"weren't\", 'wasn', 'does', 'is', 'ain', \"you're\", 'myself', 'there', \"isn't\", 'has', 'them', 'of', \"she's\", 'what', 'about', 'this'}\n"
          ],
          "name": "stdout"
        }
      ]
    },
    {
      "cell_type": "code",
      "metadata": {
        "id": "8gMmJxT2kYQ6"
      },
      "source": [
        "train['text'] = train[1].apply(lambda x: ' '.join([word for word in x.split() if word not in (words)]))\n",
        "test['text'] = test[1].apply(lambda x: ' '.join([word for word in x.split() if word not in (words)]))\n",
        "\n",
        "train['text'] = train['text'].str.replace('\\d+', '')\n",
        "test['text'] = test['text'].str.replace('\\d+', '')"
      ],
      "execution_count": 24,
      "outputs": []
    },
    {
      "cell_type": "code",
      "metadata": {
        "id": "yO7q-SD9k4rh"
      },
      "source": [
        "text = train['text']\n",
        "labels = train[0]\n",
        "test_text = test['text']\n",
        "test_labels = test[0]"
      ],
      "execution_count": 25,
      "outputs": []
    },
    {
      "cell_type": "code",
      "metadata": {
        "colab": {
          "base_uri": "https://localhost:8080/",
          "height": 206
        },
        "id": "Wzyo5Jlrk96R",
        "outputId": "d5aee353-7960-4c26-a2c5-33b106214f66"
      },
      "source": [
        "train.head()"
      ],
      "execution_count": 26,
      "outputs": [
        {
          "output_type": "execute_result",
          "data": {
            "text/html": [
              "<div>\n",
              "<style scoped>\n",
              "    .dataframe tbody tr th:only-of-type {\n",
              "        vertical-align: middle;\n",
              "    }\n",
              "\n",
              "    .dataframe tbody tr th {\n",
              "        vertical-align: top;\n",
              "    }\n",
              "\n",
              "    .dataframe thead th {\n",
              "        text-align: right;\n",
              "    }\n",
              "</style>\n",
              "<table border=\"1\" class=\"dataframe\">\n",
              "  <thead>\n",
              "    <tr style=\"text-align: right;\">\n",
              "      <th></th>\n",
              "      <th>0</th>\n",
              "      <th>1</th>\n",
              "      <th>text</th>\n",
              "    </tr>\n",
              "  </thead>\n",
              "  <tbody>\n",
              "    <tr>\n",
              "      <th>0</th>\n",
              "      <td>atis_flight</td>\n",
              "      <td>i want to fly from boston at 838 am and arriv...</td>\n",
              "      <td>want fly boston  arrive denver  morning</td>\n",
              "    </tr>\n",
              "    <tr>\n",
              "      <th>1</th>\n",
              "      <td>atis_flight</td>\n",
              "      <td>what flights are available from pittsburgh to...</td>\n",
              "      <td>flights available pittsburgh baltimore thursda...</td>\n",
              "    </tr>\n",
              "    <tr>\n",
              "      <th>2</th>\n",
              "      <td>atis_flight_time</td>\n",
              "      <td>what is the arrival time in san francisco for...</td>\n",
              "      <td>arrival time san francisco  flight leaving was...</td>\n",
              "    </tr>\n",
              "    <tr>\n",
              "      <th>3</th>\n",
              "      <td>atis_airfare</td>\n",
              "      <td>cheapest airfare from tacoma to orlando</td>\n",
              "      <td>cheapest airfare tacoma orlando</td>\n",
              "    </tr>\n",
              "    <tr>\n",
              "      <th>4</th>\n",
              "      <td>atis_airfare</td>\n",
              "      <td>round trip fares from pittsburgh to philadelp...</td>\n",
              "      <td>round trip fares pittsburgh philadelphia  dollars</td>\n",
              "    </tr>\n",
              "  </tbody>\n",
              "</table>\n",
              "</div>"
            ],
            "text/plain": [
              "                  0  ...                                               text\n",
              "0       atis_flight  ...            want fly boston  arrive denver  morning\n",
              "1       atis_flight  ...  flights available pittsburgh baltimore thursda...\n",
              "2  atis_flight_time  ...  arrival time san francisco  flight leaving was...\n",
              "3      atis_airfare  ...                    cheapest airfare tacoma orlando\n",
              "4      atis_airfare  ...  round trip fares pittsburgh philadelphia  dollars\n",
              "\n",
              "[5 rows x 3 columns]"
            ]
          },
          "metadata": {
            "tags": []
          },
          "execution_count": 26
        }
      ]
    },
    {
      "cell_type": "markdown",
      "metadata": {
        "id": "1-ahhod3mXn1"
      },
      "source": [
        "# 4 vetorizando palavras"
      ]
    },
    {
      "cell_type": "code",
      "metadata": {
        "id": "ZUw7kabpmP3Z"
      },
      "source": [
        "from keras.preprocessing.text import Tokenizer\n",
        "tok = Tokenizer()\n",
        "tok.fit_on_texts(text)\n",
        "word_index = tok.word_index"
      ],
      "execution_count": 27,
      "outputs": []
    },
    {
      "cell_type": "code",
      "metadata": {
        "colab": {
          "base_uri": "https://localhost:8080/"
        },
        "id": "u3h3DiREmpC0",
        "outputId": "518b6dd2-bd81-4dba-e320-4c5afa33be31"
      },
      "source": [
        "word_index['plane']"
      ],
      "execution_count": 28,
      "outputs": [
        {
          "output_type": "execute_result",
          "data": {
            "text/plain": [
              "227"
            ]
          },
          "metadata": {
            "tags": []
          },
          "execution_count": 28
        }
      ]
    },
    {
      "cell_type": "code",
      "metadata": {
        "id": "1TBBw4PUmdzz"
      },
      "source": [
        "max_vocab_size = len(word_index) + 1\n",
        "input_length = 25"
      ],
      "execution_count": 29,
      "outputs": []
    },
    {
      "cell_type": "code",
      "metadata": {
        "id": "lW6UpnzPmgeb"
      },
      "source": [
        "train_data_tokens = tok.texts_to_sequences(text)\n",
        "test_data_tokens = tok.texts_to_sequences(test_text)"
      ],
      "execution_count": 30,
      "outputs": []
    },
    {
      "cell_type": "code",
      "metadata": {
        "id": "RMqrQ4SymiOe"
      },
      "source": [
        "train_input = pad_sequences(train_data_tokens, input_length)\n",
        "test_input = pad_sequences(test_data_tokens, input_length)"
      ],
      "execution_count": 31,
      "outputs": []
    },
    {
      "cell_type": "markdown",
      "metadata": {
        "id": "ELQOpSUsm02g"
      },
      "source": [
        "# 5 codificando os rotulos"
      ]
    },
    {
      "cell_type": "code",
      "metadata": {
        "colab": {
          "base_uri": "https://localhost:8080/"
        },
        "id": "1Bn5NC3Om2zg",
        "outputId": "842514b1-1f8d-4a4c-f90b-af870f9617b7"
      },
      "source": [
        "a = labels\n",
        "\n",
        "label_transformer = preprocessing.LabelEncoder()\n",
        "label_transformer.fit(labels)"
      ],
      "execution_count": 32,
      "outputs": [
        {
          "output_type": "execute_result",
          "data": {
            "text/plain": [
              "LabelEncoder()"
            ]
          },
          "metadata": {
            "tags": []
          },
          "execution_count": 32
        }
      ]
    },
    {
      "cell_type": "code",
      "metadata": {
        "id": "q2eNRCDcm8Nq"
      },
      "source": [
        "labels = label_transformer.transform(labels)\n",
        "b = labels\n",
        "test_labels = label_transformer.transform(test_labels)\n",
        "c = labels"
      ],
      "execution_count": 33,
      "outputs": []
    },
    {
      "cell_type": "code",
      "metadata": {
        "id": "iM_kmpSonEh6"
      },
      "source": [
        "labels = to_categorical(np.asarray(labels))\n",
        "d = labels\n",
        "test_labels = to_categorical(np.asarray(test_labels))"
      ],
      "execution_count": 34,
      "outputs": []
    },
    {
      "cell_type": "code",
      "metadata": {
        "colab": {
          "base_uri": "https://localhost:8080/"
        },
        "id": "lhtvfbLlnHkK",
        "outputId": "968ff002-2817-40fc-9cd8-9ea879458077"
      },
      "source": [
        "labels"
      ],
      "execution_count": 35,
      "outputs": [
        {
          "output_type": "execute_result",
          "data": {
            "text/plain": [
              "array([[0., 0., 0., ..., 0., 0., 0.],\n",
              "       [0., 0., 0., ..., 0., 0., 0.],\n",
              "       [0., 0., 0., ..., 1., 0., 0.],\n",
              "       ...,\n",
              "       [0., 0., 0., ..., 0., 0., 0.],\n",
              "       [0., 0., 0., ..., 0., 0., 0.],\n",
              "       [0., 0., 0., ..., 0., 0., 0.]], dtype=float32)"
            ]
          },
          "metadata": {
            "tags": []
          },
          "execution_count": 35
        }
      ]
    },
    {
      "cell_type": "markdown",
      "metadata": {
        "id": "g2jEbbA5nM4n"
      },
      "source": [
        "# 6 separação de treino e teste (para treinamento)"
      ]
    },
    {
      "cell_type": "code",
      "metadata": {
        "colab": {
          "base_uri": "https://localhost:8080/"
        },
        "id": "t4ll7077nPgK",
        "outputId": "be6f2a64-8ade-40e0-da6d-923f6321a39b"
      },
      "source": [
        "X_train, X_val, y_train, y_val = train_test_split(train_input, labels, test_size=0.2, random_state=42)\n",
        "X_train"
      ],
      "execution_count": 36,
      "outputs": [
        {
          "output_type": "execute_result",
          "data": {
            "text/plain": [
              "array([[  0,   0,   0, ...,  52, 477, 139],\n",
              "       [  0,   0,   0, ..., 105,  50,  64],\n",
              "       [  0,   0,   0, ...,   5,   7,   3],\n",
              "       ...,\n",
              "       [  0,   0,   0, ...,   2,  10,   9],\n",
              "       [  0,   0,   0, ..., 218, 137,  93],\n",
              "       [  0,   0,   0, ...,  42,  46,   3]], dtype=int32)"
            ]
          },
          "metadata": {
            "tags": []
          },
          "execution_count": 36
        }
      ]
    },
    {
      "cell_type": "markdown",
      "metadata": {
        "id": "3JPpBPUynfNw"
      },
      "source": [
        "# 7 deep learning"
      ]
    },
    {
      "cell_type": "code",
      "metadata": {
        "id": "i8cBcThyoGuU"
      },
      "source": [
        "model = Sequential()\n",
        "model.add(Embedding(max_vocab_size, 300, input_length=input_length, trainable=False))\n",
        "model.add(Conv1D(filters=32, kernel_size=8, activation='selu'))\n",
        "model.add(MaxPooling1D(pool_size=2))\n",
        "model.add(Flatten())\n",
        "model.add(Dense(10, activation='selu'))\n",
        "model.add(Dense(8, activation='sigmoid'))"
      ],
      "execution_count": 37,
      "outputs": []
    },
    {
      "cell_type": "code",
      "metadata": {
        "colab": {
          "base_uri": "https://localhost:8080/"
        },
        "id": "UVZfOrCOoJGp",
        "outputId": "34e39ff8-ee2a-4ff6-d0c2-6b1ae4b0b43a"
      },
      "source": [
        "model.summary()"
      ],
      "execution_count": 38,
      "outputs": [
        {
          "output_type": "stream",
          "text": [
            "Model: \"sequential\"\n",
            "_________________________________________________________________\n",
            "Layer (type)                 Output Shape              Param #   \n",
            "=================================================================\n",
            "embedding (Embedding)        (None, 25, 300)           189600    \n",
            "_________________________________________________________________\n",
            "conv1d (Conv1D)              (None, 18, 32)            76832     \n",
            "_________________________________________________________________\n",
            "max_pooling1d (MaxPooling1D) (None, 9, 32)             0         \n",
            "_________________________________________________________________\n",
            "flatten (Flatten)            (None, 288)               0         \n",
            "_________________________________________________________________\n",
            "dense (Dense)                (None, 10)                2890      \n",
            "_________________________________________________________________\n",
            "dense_1 (Dense)              (None, 8)                 88        \n",
            "=================================================================\n",
            "Total params: 269,410\n",
            "Trainable params: 79,810\n",
            "Non-trainable params: 189,600\n",
            "_________________________________________________________________\n"
          ],
          "name": "stdout"
        }
      ]
    },
    {
      "cell_type": "code",
      "metadata": {
        "colab": {
          "base_uri": "https://localhost:8080/"
        },
        "id": "UkGpNEC1oMUs",
        "outputId": "7712c453-7b75-43c2-bee6-8a6a57d8d6b7"
      },
      "source": [
        "model.compile(loss='categorical_crossentropy', optimizer='adam', metrics=['accuracy'])\n",
        "model.fit(X_train, y_train, epochs=6, verbose=1)"
      ],
      "execution_count": 39,
      "outputs": [
        {
          "output_type": "stream",
          "text": [
            "Epoch 1/6\n",
            "121/121 [==============================] - 31s 12ms/step - loss: 1.0887 - accuracy: 0.7190\n",
            "Epoch 2/6\n",
            "121/121 [==============================] - 1s 12ms/step - loss: 0.6236 - accuracy: 0.8332\n",
            "Epoch 3/6\n",
            "121/121 [==============================] - 1s 11ms/step - loss: 0.4533 - accuracy: 0.8751\n",
            "Epoch 4/6\n",
            "121/121 [==============================] - 1s 12ms/step - loss: 0.3125 - accuracy: 0.9115\n",
            "Epoch 5/6\n",
            "121/121 [==============================] - 1s 11ms/step - loss: 0.2209 - accuracy: 0.9405\n",
            "Epoch 6/6\n",
            "121/121 [==============================] - 1s 12ms/step - loss: 0.1631 - accuracy: 0.9550\n"
          ],
          "name": "stdout"
        },
        {
          "output_type": "execute_result",
          "data": {
            "text/plain": [
              "<keras.callbacks.History at 0x7f0eddde1bd0>"
            ]
          },
          "metadata": {
            "tags": []
          },
          "execution_count": 39
        }
      ]
    },
    {
      "cell_type": "code",
      "metadata": {
        "colab": {
          "base_uri": "https://localhost:8080/"
        },
        "id": "-DQ9MT-WoMza",
        "outputId": "436821f4-8297-4a5c-df61-f713788b29c4"
      },
      "source": [
        "model.evaluate(X_val, y_val)"
      ],
      "execution_count": 40,
      "outputs": [
        {
          "output_type": "stream",
          "text": [
            "31/31 [==============================] - 1s 4ms/step - loss: 0.2220 - accuracy: 0.9369\n"
          ],
          "name": "stdout"
        },
        {
          "output_type": "execute_result",
          "data": {
            "text/plain": [
              "[0.2220492660999298, 0.936918318271637]"
            ]
          },
          "metadata": {
            "tags": []
          },
          "execution_count": 40
        }
      ]
    },
    {
      "cell_type": "code",
      "metadata": {
        "id": "A8oKg2h5oOOT"
      },
      "source": [
        "predictions = model.predict(test_input)"
      ],
      "execution_count": 41,
      "outputs": []
    },
    {
      "cell_type": "code",
      "metadata": {
        "colab": {
          "base_uri": "https://localhost:8080/"
        },
        "id": "d2M1k4BPoRqE",
        "outputId": "a5c3e4fd-82af-4181-cfd9-82fa01b71332"
      },
      "source": [
        "def acc(y_true, y_pred):\n",
        "    return np.equal(np.argmax(y_true, axis=-1), np.argmax(y_pred, axis=-1)).mean()\n",
        "\n",
        "print(acc(test_labels, predictions))"
      ],
      "execution_count": 42,
      "outputs": [
        {
          "output_type": "stream",
          "text": [
            "0.93875\n"
          ],
          "name": "stdout"
        }
      ]
    },
    {
      "cell_type": "code",
      "metadata": {
        "id": "CTIqrV8koqOF"
      },
      "source": [
        "def get_intent(sentence):\n",
        "  data = [[sentence]]\n",
        "  df = pd.DataFrame(data)\n",
        "  entrada = df[0].apply(lambda x: ' '.join([word for word in x.split() if word not in (words)]))\n",
        "  entrada = tok.texts_to_sequences(entrada)\n",
        "  entrada = pad_sequences(entrada, input_length)\n",
        "  prediction = model.predict(entrada)\n",
        "  # return np.argmin(prediction)\n",
        "  return a[np.where(b == np.argmax(prediction))[0][0]]"
      ],
      "execution_count": 43,
      "outputs": []
    },
    {
      "cell_type": "markdown",
      "metadata": {
        "id": "xLH6ugIvxb7I"
      },
      "source": [
        "#  8 intencoes"
      ]
    },
    {
      "cell_type": "code",
      "metadata": {
        "colab": {
          "base_uri": "https://localhost:8080/",
          "height": 35
        },
        "id": "8CDn5mBBprw7",
        "outputId": "24f88e0b-fb85-4137-f681-ac4f26205bd7"
      },
      "source": [
        "get_intent(\"what kinds of planes are used by american airlines\")"
      ],
      "execution_count": 44,
      "outputs": [
        {
          "output_type": "execute_result",
          "data": {
            "application/vnd.google.colaboratory.intrinsic+json": {
              "type": "string"
            },
            "text/plain": [
              "'atis_ground_service'"
            ]
          },
          "metadata": {
            "tags": []
          },
          "execution_count": 44
        }
      ]
    },
    {
      "cell_type": "code",
      "metadata": {
        "colab": {
          "base_uri": "https://localhost:8080/",
          "height": 35
        },
        "id": "w_Q5YSLLv_NN",
        "outputId": "fcca2836-cacd-41d2-9e55-89905bcf9e18"
      },
      "source": [
        "get_intent(\"show me the first class fares from boston to denver\")"
      ],
      "execution_count": 45,
      "outputs": [
        {
          "output_type": "execute_result",
          "data": {
            "application/vnd.google.colaboratory.intrinsic+json": {
              "type": "string"
            },
            "text/plain": [
              "'atis_airfare'"
            ]
          },
          "metadata": {
            "tags": []
          },
          "execution_count": 45
        }
      ]
    },
    {
      "cell_type": "code",
      "metadata": {
        "colab": {
          "base_uri": "https://localhost:8080/",
          "height": 35
        },
        "id": "MeUNHDcswDKc",
        "outputId": "6ca3becf-90bf-416a-e030-8ea9c253ef4f"
      },
      "source": [
        "get_intent(\"show me the flights from boston to denver\")"
      ],
      "execution_count": 46,
      "outputs": [
        {
          "output_type": "execute_result",
          "data": {
            "application/vnd.google.colaboratory.intrinsic+json": {
              "type": "string"
            },
            "text/plain": [
              "'atis_flight'"
            ]
          },
          "metadata": {
            "tags": []
          },
          "execution_count": 46
        }
      ]
    },
    {
      "cell_type": "markdown",
      "metadata": {
        "id": "CZCwm4e-6Z4f"
      },
      "source": [
        "# 9 generating responses"
      ]
    },
    {
      "cell_type": "code",
      "metadata": {
        "id": "KE8eTJjD7xLu",
        "colab": {
          "base_uri": "https://localhost:8080/"
        },
        "outputId": "ee6668a9-5d59-4fdd-abaf-af47a5507399"
      },
      "source": [
        "intents = {}\n",
        "for i in range(8):\n",
        "  intents.update({a[np.where(b == i)[0][0]]: []})\n",
        "\n",
        "intents['atis_abbreviation'].append(\"it means @\")\n",
        "intents['atis_aircraft'].append(\"the aircraft used is @\")\n",
        "intents['atis_airfare'].append(\"the price is @\")\n",
        "intents['atis_airfare'].append(\"the price in @ can vary from @ to @\")\n",
        "intents['atis_airfare'].append(\"the price in @ is @\")\n",
        "intents['atis_airfare'].append(\"the price is @\")\n",
        "intents['atis_airline'].append(\"the airline is @\")\n",
        "intents['atis_flight'].append(\"the available flights are @\")\n",
        "intents['atis_flight_time'].append(\"the time is @\")\n",
        "intents['atis_ground_service'].append(\"the service will be @ available at @\")\n",
        "intents['atis_quantity'].append(\"there are at least @\")\n",
        "\n",
        "intents"
      ],
      "execution_count": 113,
      "outputs": [
        {
          "output_type": "execute_result",
          "data": {
            "text/plain": [
              "{'atis_abbreviation': ['it means @'],\n",
              " 'atis_aircraft': ['the aircraft used is @'],\n",
              " 'atis_airfare': ['the price is @',\n",
              "  'the price in @ can vary from @ to @',\n",
              "  'the price in @ is @',\n",
              "  'the price is @'],\n",
              " 'atis_airline': ['the airline is @'],\n",
              " 'atis_flight': ['the available flights are @'],\n",
              " 'atis_flight_time': ['the time is @'],\n",
              " 'atis_ground_service': ['the service will be @ available at @'],\n",
              " 'atis_quantity': ['there are at least @']}"
            ]
          },
          "metadata": {
            "tags": []
          },
          "execution_count": 113
        }
      ]
    },
    {
      "cell_type": "code",
      "metadata": {
        "id": "TYaBHiUSAdjM",
        "colab": {
          "base_uri": "https://localhost:8080/"
        },
        "outputId": "a82b95ae-f4a2-4170-aa92-d3983157d1ca"
      },
      "source": [
        "! pip install termcolor\n",
        "from termcolor import colored\n"
      ],
      "execution_count": 114,
      "outputs": [
        {
          "output_type": "stream",
          "text": [
            "Requirement already satisfied: termcolor in /usr/local/lib/python3.7/dist-packages (1.1.0)\n"
          ],
          "name": "stdout"
        }
      ]
    },
    {
      "cell_type": "code",
      "metadata": {
        "id": "AfIFUfkA79Pk"
      },
      "source": [
        "import random\n",
        "def response(text):\n",
        "  intent = get_intent(text)\n",
        "  print(colored(intent, 'red'))\n",
        "  print(colored(\"BOT: \" + random.choice(intents[intent]), 'green'))"
      ],
      "execution_count": 115,
      "outputs": []
    },
    {
      "cell_type": "code",
      "metadata": {
        "id": "thRj3Nid9I47",
        "colab": {
          "base_uri": "https://localhost:8080/"
        },
        "outputId": "f0686e0d-390c-4183-b457-ac84b69681d4"
      },
      "source": [
        "entrada = input(\"YOU: \")\n",
        "response(entrada)"
      ],
      "execution_count": 116,
      "outputs": [
        {
          "output_type": "stream",
          "text": [
            "YOU: which aircraft types are used in NYC\n",
            "\u001b[31matis_aircraft\u001b[0m\n",
            "\u001b[32mBOT: the aircraft used is @\u001b[0m\n"
          ],
          "name": "stdout"
        }
      ]
    },
    {
      "cell_type": "markdown",
      "metadata": {
        "id": "LiFwLvxe4niA"
      },
      "source": [
        "# 10 Entidades"
      ]
    },
    {
      "cell_type": "code",
      "metadata": {
        "id": "yvuq7wLa5F0l",
        "outputId": "da8b1d09-674d-4760-ec09-1bcf011bb4a8",
        "colab": {
          "base_uri": "https://localhost:8080/"
        }
      },
      "source": [
        "import nltk\n",
        "nltk.download('punkt')\n",
        "nltk.download('averaged_perceptron_tagger')"
      ],
      "execution_count": 117,
      "outputs": [
        {
          "output_type": "stream",
          "text": [
            "[nltk_data] Downloading package punkt to /root/nltk_data...\n",
            "[nltk_data]   Package punkt is already up-to-date!\n",
            "[nltk_data] Downloading package averaged_perceptron_tagger to\n",
            "[nltk_data]     /root/nltk_data...\n",
            "[nltk_data]   Package averaged_perceptron_tagger is already up-to-\n",
            "[nltk_data]       date!\n"
          ],
          "name": "stdout"
        },
        {
          "output_type": "execute_result",
          "data": {
            "text/plain": [
              "True"
            ]
          },
          "metadata": {
            "tags": []
          },
          "execution_count": 117
        }
      ]
    },
    {
      "cell_type": "code",
      "metadata": {
        "id": "84fJXSFy5Hr5"
      },
      "source": [
        "import nltk.tokenize as nt"
      ],
      "execution_count": 118,
      "outputs": []
    },
    {
      "cell_type": "code",
      "metadata": {
        "id": "qcdw-Vos5Jw-",
        "outputId": "fbd00547-d4a0-4f00-bc00-1e891183cefc",
        "colab": {
          "base_uri": "https://localhost:8080/"
        }
      },
      "source": [
        "text=\"show me the flights from boston to denver\"\n",
        "ss=nt.sent_tokenize(text)\n",
        "ss"
      ],
      "execution_count": 119,
      "outputs": [
        {
          "output_type": "execute_result",
          "data": {
            "text/plain": [
              "['show me the flights from boston to denver']"
            ]
          },
          "metadata": {
            "tags": []
          },
          "execution_count": 119
        }
      ]
    },
    {
      "cell_type": "code",
      "metadata": {
        "id": "uIie0JA85iRp",
        "outputId": "7ae8b8f8-9565-4f45-d261-58c305ae1f46",
        "colab": {
          "base_uri": "https://localhost:8080/"
        }
      },
      "source": [
        "tokenized_sent=[nt.word_tokenize(sent) for sent in ss]\n",
        "tokenized_sent"
      ],
      "execution_count": 120,
      "outputs": [
        {
          "output_type": "execute_result",
          "data": {
            "text/plain": [
              "[['show', 'me', 'the', 'flights', 'from', 'boston', 'to', 'denver']]"
            ]
          },
          "metadata": {
            "tags": []
          },
          "execution_count": 120
        }
      ]
    },
    {
      "cell_type": "markdown",
      "metadata": {
        "id": "5hnRYd6t59il"
      },
      "source": [
        "* CC  \tcoordinating conjunction\n",
        "* CD \t cardinal digit\n",
        "* DT  \tdeterminer\n",
        "* EX \texistential there (like: \"there is\" ... think of * it like \"there exists\")\n",
        "* FW   \tforeign word\n",
        "* IN   \tpreposition/subordinating conjunction\n",
        "* JJ  \tadjective    'big'\n",
        "* JJR \tadjective, comparative    'bigger'\n",
        "* JJS \tadjective, superlative    'biggest'\n",
        "* LS \tList marker    1)\n",
        "* MD \tmodal    could, will\n",
        "* NN \tnoun, singular 'desk'\n",
        "* NNS \t noun plural    'desks'\n",
        "* NNP \tproper noun, singular    'Harrison'\n",
        "* NNPS \t proper noun, plural    'Americans'\n",
        "* PDT \tpredeterminer    'all the kids'\n",
        "* POS \tpossessive ending    parent's\n",
        "* PRP \tpersonal pronoun    I, he, she\n",
        "* PRPdollar \t possessive pronoun    my, his, hers\n",
        "* RB \tadverb    very, silently,\n",
        "* RBR \tadverb, comparative    better\n",
        "* RBS \tAdverb, superlative    best\n",
        "* RP \tparticle    give up\n",
        "* TO \tto go 'to' the store.\n",
        "* UH \t interjection    errrrrrrrm\n",
        "* VB \tVerb, base form    take\n",
        "* VBD \tverb, past tense, took\n",
        "* VBG \tVerb, gerund/present participle    taking\n",
        "* VBN \tverb, past participle taken\n",
        "* VBP \tverb, sing. present, non-3d    take\n",
        "* VBZ \t verb, 3rd person sing. present    takes\n",
        "* WDT \twh-determiner  which\n",
        "* WP \t wh-pronoun    who, what\n",
        "* WPdollar \tpossessive wh-pronoun    whose\n",
        "* WRB \twh-adverb    where, when"
      ]
    },
    {
      "cell_type": "code",
      "metadata": {
        "id": "LWyP5QcR5orY",
        "outputId": "1304c589-5b5d-4ed5-bd22-3cc94977f7ec",
        "colab": {
          "base_uri": "https://localhost:8080/"
        }
      },
      "source": [
        "nltk.pos_tag(['boston'])"
      ],
      "execution_count": 121,
      "outputs": [
        {
          "output_type": "execute_result",
          "data": {
            "text/plain": [
              "[('boston', 'NN')]"
            ]
          },
          "metadata": {
            "tags": []
          },
          "execution_count": 121
        }
      ]
    },
    {
      "cell_type": "code",
      "metadata": {
        "id": "POCbQI834o1M",
        "outputId": "77cd667f-0f90-4cab-eea0-2b2f06f179a5",
        "colab": {
          "base_uri": "https://localhost:8080/"
        }
      },
      "source": [
        "pos_sentences=[nltk.pos_tag(sent) for sent in tokenized_sent]\n",
        "pos_sentences"
      ],
      "execution_count": 122,
      "outputs": [
        {
          "output_type": "execute_result",
          "data": {
            "text/plain": [
              "[[('show', 'VB'),\n",
              "  ('me', 'PRP'),\n",
              "  ('the', 'DT'),\n",
              "  ('flights', 'NNS'),\n",
              "  ('from', 'IN'),\n",
              "  ('boston', 'NN'),\n",
              "  ('to', 'TO'),\n",
              "  ('denver', 'VB')]]"
            ]
          },
          "metadata": {
            "tags": []
          },
          "execution_count": 122
        }
      ]
    },
    {
      "cell_type": "code",
      "metadata": {
        "id": "mp38FJ4p43z8"
      },
      "source": [
        "def extract_NN(sent):\n",
        "    grammar = r\"\"\"\n",
        "    NBAR:\n",
        "        # Nouns and Adjectives, terminated with Nouns\n",
        "        {<NN.*>*<NN.*>}\n",
        "\n",
        "    NP:\n",
        "        {<NBAR>}\n",
        "        # Above, connected with in/of/etc...\n",
        "        {<NBAR><IN><NBAR>}\n",
        "    \"\"\"\n",
        "    chunker = nltk.RegexpParser(grammar)\n",
        "    ne = set()\n",
        "    chunk = chunker.parse(nltk.pos_tag(nltk.word_tokenize(sent)))\n",
        "    for tree in chunk.subtrees(filter=lambda t: t.label() == 'NP'):\n",
        "        ne.add(' '.join([child[0] for child in tree.leaves()]))\n",
        "    return ne"
      ],
      "execution_count": 123,
      "outputs": []
    },
    {
      "cell_type": "code",
      "metadata": {
        "id": "qqkjhvrD8Uyn",
        "outputId": "77394e61-e335-4c38-c490-b692e0777168",
        "colab": {
          "base_uri": "https://localhost:8080/"
        }
      },
      "source": [
        "extract_NN(\"show me the flights from boston to denver\")"
      ],
      "execution_count": 124,
      "outputs": [
        {
          "output_type": "execute_result",
          "data": {
            "text/plain": [
              "{'boston', 'flights'}"
            ]
          },
          "metadata": {
            "tags": []
          },
          "execution_count": 124
        }
      ]
    },
    {
      "cell_type": "markdown",
      "metadata": {
        "id": "n0W9i_EW9L-w"
      },
      "source": [
        "# 11 generating responses with entities"
      ]
    },
    {
      "cell_type": "code",
      "metadata": {
        "id": "JRxZneO8_sQ9"
      },
      "source": [
        "data = [['atis_aircraft', 'NYC', 'AC-202'], ['atis_aircraft', 'boston', 'Airbus B212']]"
      ],
      "execution_count": 125,
      "outputs": []
    },
    {
      "cell_type": "code",
      "metadata": {
        "id": "_gv3pOcYAA-C"
      },
      "source": [
        "def get_data(text):\n",
        "  intent = get_intent(text)\n",
        "  options = []\n",
        "  for d in data:\n",
        "    if d[0] == intent:\n",
        "      options.append(d)\n",
        "  entities = extract_NN(text)\n",
        "  answer = \"no data found\"\n",
        "  for d in options:\n",
        "    if d[1] in entities:\n",
        "      answer = d[2]\n",
        "  return answer"
      ],
      "execution_count": 126,
      "outputs": []
    },
    {
      "cell_type": "code",
      "metadata": {
        "id": "f32nuYL66vmB"
      },
      "source": [
        "import random\n",
        "def response(text):\n",
        "  intent = get_intent(text)\n",
        "  print(colored(intent, 'red'))\n",
        "  print(colored(extract_NN(text), 'blue'))\n",
        "  answer = random.choice(intents[intent])\n",
        "  print(colored(\"BOT: \" + answer.replace(\"@\", get_data(text)), 'green'))"
      ],
      "execution_count": 127,
      "outputs": []
    },
    {
      "cell_type": "code",
      "metadata": {
        "id": "_jhYmiFo8i03",
        "outputId": "f68aa324-27c2-4b26-e629-6a1443393bd3",
        "colab": {
          "base_uri": "https://localhost:8080/"
        }
      },
      "source": [
        "entrada = input(\"YOU: \")\n",
        "response(entrada)"
      ],
      "execution_count": 128,
      "outputs": [
        {
          "output_type": "stream",
          "text": [
            "YOU: which aircraft types are used in NYC\n",
            "\u001b[31matis_aircraft\u001b[0m\n",
            "\u001b[34m{'aircraft types', 'NYC'}\u001b[0m\n",
            "\u001b[32mBOT: the aircraft used is AC-202\u001b[0m\n"
          ],
          "name": "stdout"
        }
      ]
    },
    {
      "cell_type": "code",
      "metadata": {
        "id": "5xuChF57AGYg",
        "outputId": "9fc8d3e3-ed7b-4db1-e211-6d3fde65615c",
        "colab": {
          "base_uri": "https://localhost:8080/"
        }
      },
      "source": [
        "entrada = input(\"YOU: \")\n",
        "response(entrada)"
      ],
      "execution_count": 129,
      "outputs": [
        {
          "output_type": "stream",
          "text": [
            "YOU: which aircraft types are used in boston\n",
            "\u001b[31matis_aircraft\u001b[0m\n",
            "\u001b[34m{'aircraft types', 'boston'}\u001b[0m\n",
            "\u001b[32mBOT: the aircraft used is Airbus B212\u001b[0m\n"
          ],
          "name": "stdout"
        }
      ]
    }
  ]
}