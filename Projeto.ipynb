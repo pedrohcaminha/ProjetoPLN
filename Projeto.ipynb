{
  "nbformat": 4,
  "nbformat_minor": 0,
  "metadata": {
    "colab": {
      "name": "Projeto.ipynb",
      "provenance": [],
      "authorship_tag": "ABX9TyMW0XZ2Lt34IGE2ElVdN/3p",
      "include_colab_link": true
    },
    "kernelspec": {
      "name": "python3",
      "display_name": "Python 3"
    },
    "language_info": {
      "name": "python"
    }
  },
  "cells": [
    {
      "cell_type": "markdown",
      "metadata": {
        "id": "view-in-github",
        "colab_type": "text"
      },
      "source": [
        "<a href=\"https://colab.research.google.com/github/pedrohcaminha/ProjetoPLN/blob/main/Projeto.ipynb\" target=\"_parent\"><img src=\"https://colab.research.google.com/assets/colab-badge.svg\" alt=\"Open In Colab\"/></a>"
      ]
    },
    {
      "cell_type": "markdown",
      "metadata": {
        "id": "S-MWaBDRaxIl"
      },
      "source": [
        "# 1 baixando os dados"
      ]
    },
    {
      "cell_type": "code",
      "metadata": {
        "colab": {
          "base_uri": "https://localhost:8080/"
        },
        "id": "1OHFYO2kaF__",
        "outputId": "002e8d78-e47b-4638-cf11-93f0a6707dab"
      },
      "source": [
        "! pip install kaggle"
      ],
      "execution_count": 1,
      "outputs": [
        {
          "output_type": "stream",
          "text": [
            "Requirement already satisfied: kaggle in /usr/local/lib/python3.7/dist-packages (1.5.12)\n",
            "Requirement already satisfied: urllib3 in /usr/local/lib/python3.7/dist-packages (from kaggle) (1.24.3)\n",
            "Requirement already satisfied: requests in /usr/local/lib/python3.7/dist-packages (from kaggle) (2.23.0)\n",
            "Requirement already satisfied: tqdm in /usr/local/lib/python3.7/dist-packages (from kaggle) (4.41.1)\n",
            "Requirement already satisfied: python-slugify in /usr/local/lib/python3.7/dist-packages (from kaggle) (5.0.2)\n",
            "Requirement already satisfied: python-dateutil in /usr/local/lib/python3.7/dist-packages (from kaggle) (2.8.1)\n",
            "Requirement already satisfied: six>=1.10 in /usr/local/lib/python3.7/dist-packages (from kaggle) (1.15.0)\n",
            "Requirement already satisfied: certifi in /usr/local/lib/python3.7/dist-packages (from kaggle) (2021.5.30)\n",
            "Requirement already satisfied: chardet<4,>=3.0.2 in /usr/local/lib/python3.7/dist-packages (from requests->kaggle) (3.0.4)\n",
            "Requirement already satisfied: idna<3,>=2.5 in /usr/local/lib/python3.7/dist-packages (from requests->kaggle) (2.10)\n",
            "Requirement already satisfied: text-unidecode>=1.3 in /usr/local/lib/python3.7/dist-packages (from python-slugify->kaggle) (1.3)\n"
          ],
          "name": "stdout"
        }
      ]
    },
    {
      "cell_type": "code",
      "metadata": {
        "colab": {
          "base_uri": "https://localhost:8080/"
        },
        "id": "Ye7f2iknaF9Y",
        "outputId": "67da7b71-04bb-4f89-c825-65916592dadb"
      },
      "source": [
        "! mkdir ~/.kaggle"
      ],
      "execution_count": 2,
      "outputs": [
        {
          "output_type": "stream",
          "text": [
            "mkdir: cannot create directory ‘/root/.kaggle’: File exists\n"
          ],
          "name": "stdout"
        }
      ]
    },
    {
      "cell_type": "markdown",
      "metadata": {
        "id": "n1DEkj-eazSI"
      },
      "source": [
        ""
      ]
    },
    {
      "cell_type": "code",
      "metadata": {
        "id": "mDon9SKDaF6p"
      },
      "source": [
        "! cp kaggle.json ~/.kaggle/"
      ],
      "execution_count": 3,
      "outputs": []
    },
    {
      "cell_type": "code",
      "metadata": {
        "id": "TuAmWLpjaF3-"
      },
      "source": [
        "! chmod 600 ~/.kaggle/kaggle.json"
      ],
      "execution_count": 4,
      "outputs": []
    },
    {
      "cell_type": "code",
      "metadata": {
        "colab": {
          "base_uri": "https://localhost:8080/"
        },
        "id": "B5H77OXHYq7q",
        "outputId": "0da27a28-a61a-4682-bf52-70a4b5e94a73"
      },
      "source": [
        "! kaggle datasets download hassanamin/atis-airlinetravelinformationsystem"
      ],
      "execution_count": 5,
      "outputs": [
        {
          "output_type": "stream",
          "text": [
            "atis-airlinetravelinformationsystem.zip: Skipping, found more recently modified local copy (use --force to force download)\n"
          ],
          "name": "stdout"
        }
      ]
    },
    {
      "cell_type": "code",
      "metadata": {
        "colab": {
          "base_uri": "https://localhost:8080/"
        },
        "id": "txSUxUbcaZeT",
        "outputId": "51306a9e-1a8d-4f4c-b32f-f9702e8ee3fe"
      },
      "source": [
        "! unzip atis-airlinetravelinformationsystem.zip"
      ],
      "execution_count": 6,
      "outputs": [
        {
          "output_type": "stream",
          "text": [
            "Archive:  atis-airlinetravelinformationsystem.zip\n",
            "replace atis_intents.csv? [y]es, [n]o, [A]ll, [N]one, [r]ename: A\n",
            "  inflating: atis_intents.csv        \n",
            "  inflating: atis_intents_test.csv   \n",
            "  inflating: atis_intents_train.csv  \n"
          ],
          "name": "stdout"
        }
      ]
    },
    {
      "cell_type": "code",
      "metadata": {
        "colab": {
          "base_uri": "https://localhost:8080/"
        },
        "id": "FXM0ncahak-S",
        "outputId": "022213ec-59a7-4580-f4b1-8f18b600d61f"
      },
      "source": [
        "! ls"
      ],
      "execution_count": 7,
      "outputs": [
        {
          "output_type": "stream",
          "text": [
            "atis-airlinetravelinformationsystem.zip  atis_intents_test.csv\t kaggle.json\n",
            "atis_intents.csv\t\t\t atis_intents_train.csv  sample_data\n"
          ],
          "name": "stdout"
        }
      ]
    },
    {
      "cell_type": "markdown",
      "metadata": {
        "id": "shU6MnGqa1DI"
      },
      "source": [
        "# 2 lendo e separando os dados"
      ]
    },
    {
      "cell_type": "markdown",
      "metadata": {
        "id": "rhQJhs-HbJHu"
      },
      "source": [
        "importando bibliotecas"
      ]
    },
    {
      "cell_type": "code",
      "metadata": {
        "colab": {
          "base_uri": "https://localhost:8080/"
        },
        "id": "loqixnfea0fw",
        "outputId": "40d83ebf-1e06-46f5-94ad-2ecb7cc45566"
      },
      "source": [
        "import spacy\n",
        "import csv\n",
        "import os\n",
        "\n",
        "import pandas as pd\n",
        "import numpy as np\n",
        "import matplotlib.pyplot as plt\n",
        "\n",
        "from scipy import spatial\n",
        "import nltk\n",
        "nltk.download('stopwords')\n",
        "\n",
        "from nltk.tokenize import word_tokenize\n",
        "from keras.preprocessing.sequence import pad_sequences\n",
        "from keras.utils.np_utils import to_categorical\n",
        "\n",
        "from keras.layers.embeddings import Embedding\n",
        "from keras.layers import Flatten, LSTM, Conv1D, MaxPooling1D, Dropout, Activation\n",
        "from keras.layers import Input, Dense\n",
        "from keras.models import Sequential\n",
        "\n",
        "from sklearn.metrics import classification_report\n",
        "from sklearn import preprocessing\n",
        "from sklearn.model_selection import train_test_split\n",
        "from sklearn.manifold import TSNE\n"
      ],
      "execution_count": 8,
      "outputs": [
        {
          "output_type": "stream",
          "text": [
            "[nltk_data] Downloading package stopwords to /root/nltk_data...\n",
            "[nltk_data]   Package stopwords is already up-to-date!\n"
          ],
          "name": "stdout"
        }
      ]
    },
    {
      "cell_type": "markdown",
      "metadata": {
        "id": "yYeXB7jjdPm0"
      },
      "source": [
        "dados de treino e teste"
      ]
    },
    {
      "cell_type": "code",
      "metadata": {
        "id": "kpTRZXBwbLd5"
      },
      "source": [
        "train = pd.read_csv(\"atis_intents_train.csv\", header=None)\n",
        "test = pd.read_csv(\"atis_intents_test.csv\", header=None)"
      ],
      "execution_count": 9,
      "outputs": []
    },
    {
      "cell_type": "markdown",
      "metadata": {
        "id": "fT37iL89jhgm"
      },
      "source": [
        "# 3 pre-processamento"
      ]
    },
    {
      "cell_type": "markdown",
      "metadata": {
        "id": "1IuQEJYgkwD0"
      },
      "source": [
        "stop words"
      ]
    },
    {
      "cell_type": "code",
      "metadata": {
        "colab": {
          "base_uri": "https://localhost:8080/"
        },
        "id": "TtG31KC-jkM2",
        "outputId": "8305b0ae-c14b-4c16-9bdc-cff6d2ebd5ea"
      },
      "source": [
        "from nltk.corpus import stopwords\n",
        "words = set(stopwords.words(\"english\"))\n",
        "print(words)"
      ],
      "execution_count": 10,
      "outputs": [
        {
          "output_type": "stream",
          "text": [
            "{'off', 'it', 'your', \"it's\", 'they', 'having', 'there', 'each', 'before', 'own', 'shan', \"weren't\", \"wasn't\", 'ourselves', 'above', 'at', 'than', 'no', 'are', 'below', 'up', 'any', \"you're\", 'that', \"you've\", 'so', 'ain', 'shouldn', 'a', 'm', 'am', 'couldn', 'wasn', 'weren', 'has', 'just', 'mightn', 'don', 'hasn', 'you', 'her', 'needn', 'can', 'our', 'why', 'yourself', 'she', 'under', 'themselves', 'i', 'other', 'out', \"didn't\", 'how', \"shouldn't\", \"should've\", 'wouldn', 've', 'ma', 'does', 'about', \"mightn't\", 'and', 'them', 'been', \"haven't\", \"you'd\", 'once', 'during', 'or', 'into', 'nor', 'some', 'the', 'in', 'were', 'who', 'haven', 'we', \"hadn't\", 'him', 'an', 'down', 'myself', 'same', 'doing', 'too', 'while', 'my', 'its', 'but', 'with', 'which', 'do', 'what', \"that'll\", 'yours', 'these', 'their', 'doesn', \"she's\", 'again', 'then', \"won't\", 'such', 'himself', 'few', 'had', \"aren't\", 'is', 'from', 'more', 'aren', 'me', 'mustn', 'theirs', 'here', 'will', 'being', 'o', \"wouldn't\", 'of', 'for', \"don't\", 'through', 'most', 'y', 'not', \"you'll\", 'he', 'as', 'll', 'ours', 'over', 're', 'because', 'when', 'both', \"mustn't\", 'hers', 'hadn', 'was', \"shan't\", 'herself', 'those', 'his', \"hasn't\", 'be', 'should', 't', 'itself', \"isn't\", 's', 'this', 'have', 'whom', 'did', 'by', 'between', 'now', 'if', 'only', 'yourselves', 'after', 'very', 'didn', 'further', \"doesn't\", 'on', 'where', 'won', 'isn', \"couldn't\", 'to', 'd', 'all', 'against', 'until', \"needn't\"}\n"
          ],
          "name": "stdout"
        }
      ]
    },
    {
      "cell_type": "code",
      "metadata": {
        "id": "8gMmJxT2kYQ6"
      },
      "source": [
        "train['text'] = train[1].apply(lambda x: ' '.join([word for word in x.split() if word not in (words)]))\n",
        "test['text'] = test[1].apply(lambda x: ' '.join([word for word in x.split() if word not in (words)]))\n",
        "\n",
        "train['text'] = train['text'].str.replace('\\d+', '')\n",
        "test['text'] = test['text'].str.replace('\\d+', '')"
      ],
      "execution_count": 11,
      "outputs": []
    },
    {
      "cell_type": "code",
      "metadata": {
        "id": "yO7q-SD9k4rh"
      },
      "source": [
        "text = train['text']\n",
        "labels = train[0]\n",
        "test_text = test['text']\n",
        "test_labels = test[0]"
      ],
      "execution_count": 12,
      "outputs": []
    },
    {
      "cell_type": "code",
      "metadata": {
        "colab": {
          "base_uri": "https://localhost:8080/",
          "height": 206
        },
        "id": "Wzyo5Jlrk96R",
        "outputId": "da478a61-9d50-4ac7-d5fe-8da3cfaa9237"
      },
      "source": [
        "train.head()"
      ],
      "execution_count": 13,
      "outputs": [
        {
          "output_type": "execute_result",
          "data": {
            "text/html": [
              "<div>\n",
              "<style scoped>\n",
              "    .dataframe tbody tr th:only-of-type {\n",
              "        vertical-align: middle;\n",
              "    }\n",
              "\n",
              "    .dataframe tbody tr th {\n",
              "        vertical-align: top;\n",
              "    }\n",
              "\n",
              "    .dataframe thead th {\n",
              "        text-align: right;\n",
              "    }\n",
              "</style>\n",
              "<table border=\"1\" class=\"dataframe\">\n",
              "  <thead>\n",
              "    <tr style=\"text-align: right;\">\n",
              "      <th></th>\n",
              "      <th>0</th>\n",
              "      <th>1</th>\n",
              "      <th>text</th>\n",
              "    </tr>\n",
              "  </thead>\n",
              "  <tbody>\n",
              "    <tr>\n",
              "      <th>0</th>\n",
              "      <td>atis_flight</td>\n",
              "      <td>i want to fly from boston at 838 am and arriv...</td>\n",
              "      <td>want fly boston  arrive denver  morning</td>\n",
              "    </tr>\n",
              "    <tr>\n",
              "      <th>1</th>\n",
              "      <td>atis_flight</td>\n",
              "      <td>what flights are available from pittsburgh to...</td>\n",
              "      <td>flights available pittsburgh baltimore thursda...</td>\n",
              "    </tr>\n",
              "    <tr>\n",
              "      <th>2</th>\n",
              "      <td>atis_flight_time</td>\n",
              "      <td>what is the arrival time in san francisco for...</td>\n",
              "      <td>arrival time san francisco  flight leaving was...</td>\n",
              "    </tr>\n",
              "    <tr>\n",
              "      <th>3</th>\n",
              "      <td>atis_airfare</td>\n",
              "      <td>cheapest airfare from tacoma to orlando</td>\n",
              "      <td>cheapest airfare tacoma orlando</td>\n",
              "    </tr>\n",
              "    <tr>\n",
              "      <th>4</th>\n",
              "      <td>atis_airfare</td>\n",
              "      <td>round trip fares from pittsburgh to philadelp...</td>\n",
              "      <td>round trip fares pittsburgh philadelphia  dollars</td>\n",
              "    </tr>\n",
              "  </tbody>\n",
              "</table>\n",
              "</div>"
            ],
            "text/plain": [
              "                  0  ...                                               text\n",
              "0       atis_flight  ...            want fly boston  arrive denver  morning\n",
              "1       atis_flight  ...  flights available pittsburgh baltimore thursda...\n",
              "2  atis_flight_time  ...  arrival time san francisco  flight leaving was...\n",
              "3      atis_airfare  ...                    cheapest airfare tacoma orlando\n",
              "4      atis_airfare  ...  round trip fares pittsburgh philadelphia  dollars\n",
              "\n",
              "[5 rows x 3 columns]"
            ]
          },
          "metadata": {
            "tags": []
          },
          "execution_count": 13
        }
      ]
    },
    {
      "cell_type": "markdown",
      "metadata": {
        "id": "1-ahhod3mXn1"
      },
      "source": [
        "# 4 vetorizando palavras"
      ]
    },
    {
      "cell_type": "code",
      "metadata": {
        "id": "ZUw7kabpmP3Z"
      },
      "source": [
        "from keras.preprocessing.text import Tokenizer\n",
        "tok = Tokenizer()\n",
        "tok.fit_on_texts(text)\n",
        "word_index = tok.word_index"
      ],
      "execution_count": 14,
      "outputs": []
    },
    {
      "cell_type": "code",
      "metadata": {
        "colab": {
          "base_uri": "https://localhost:8080/"
        },
        "id": "u3h3DiREmpC0",
        "outputId": "34913559-e69f-4ca7-f05b-972f34dfd39b"
      },
      "source": [
        "word_index"
      ],
      "execution_count": 15,
      "outputs": [
        {
          "output_type": "execute_result",
          "data": {
            "text/plain": [
              "{'aa': 512,\n",
              " 'abbreviation': 290,\n",
              " 'abbreviations': 403,\n",
              " 'able': 526,\n",
              " 'ac': 454,\n",
              " 'across': 474,\n",
              " 'actually': 464,\n",
              " 'advertises': 615,\n",
              " 'afternoon': 38,\n",
              " 'afternoons': 621,\n",
              " 'afterwards': 488,\n",
              " 'air': 92,\n",
              " 'aircraft': 101,\n",
              " 'airfare': 218,\n",
              " 'airfares': 588,\n",
              " 'airline': 83,\n",
              " 'airlines': 15,\n",
              " 'airplane': 278,\n",
              " 'airplanes': 586,\n",
              " 'airport': 70,\n",
              " 'airports': 233,\n",
              " 'alaska': 438,\n",
              " 'along': 442,\n",
              " 'also': 207,\n",
              " 'america': 359,\n",
              " 'american': 39,\n",
              " \"american's\": 451,\n",
              " 'amount': 348,\n",
              " 'angeles': 105,\n",
              " 'another': 353,\n",
              " 'anything': 602,\n",
              " 'anywhere': 332,\n",
              " 'ap': 204,\n",
              " 'approximately': 404,\n",
              " 'april': 187,\n",
              " 'area': 333,\n",
              " 'arizona': 441,\n",
              " 'around': 111,\n",
              " 'arrange': 295,\n",
              " 'arrangements': 217,\n",
              " 'arrival': 310,\n",
              " 'arrivals': 311,\n",
              " 'arrive': 52,\n",
              " 'arrives': 178,\n",
              " 'arriving': 35,\n",
              " 'atl': 456,\n",
              " 'atlanta': 8,\n",
              " \"atlanta's\": 450,\n",
              " 'august': 75,\n",
              " 'available': 36,\n",
              " 'b': 434,\n",
              " 'back': 222,\n",
              " 'baltimore': 11,\n",
              " 'bay': 578,\n",
              " 'beach': 147,\n",
              " 'beginning': 468,\n",
              " 'begins': 532,\n",
              " 'belong': 519,\n",
              " 'besides': 561,\n",
              " 'bna': 486,\n",
              " 'boeing': 316,\n",
              " 'book': 142,\n",
              " 'booking': 296,\n",
              " 'boston': 3,\n",
              " 'bound': 436,\n",
              " 'breakfast': 182,\n",
              " 'bring': 584,\n",
              " 'bur': 502,\n",
              " 'burbank': 183,\n",
              " 'business': 201,\n",
              " 'buy': 459,\n",
              " 'bwi': 234,\n",
              " 'c': 399,\n",
              " 'california': 162,\n",
              " 'calling': 513,\n",
              " 'canada': 303,\n",
              " 'canadian': 284,\n",
              " 'capacity': 336,\n",
              " 'car': 223,\n",
              " 'carolina': 249,\n",
              " 'carries': 420,\n",
              " 'cars': 448,\n",
              " 'catch': 550,\n",
              " 'charges': 521,\n",
              " 'charlotte': 73,\n",
              " 'cheap': 334,\n",
              " 'cheapest': 31,\n",
              " 'chicago': 71,\n",
              " 'choices': 369,\n",
              " 'cincinnati': 138,\n",
              " 'cities': 250,\n",
              " 'city': 37,\n",
              " 'class': 33,\n",
              " 'classes': 236,\n",
              " 'cleveland': 102,\n",
              " 'close': 365,\n",
              " 'co': 373,\n",
              " 'coach': 149,\n",
              " 'code': 98,\n",
              " 'codes': 294,\n",
              " 'colorado': 258,\n",
              " 'columbus': 172,\n",
              " 'come': 589,\n",
              " 'coming': 297,\n",
              " 'companies': 618,\n",
              " 'concerning': 593,\n",
              " 'connect': 346,\n",
              " 'connecting': 197,\n",
              " 'connection': 410,\n",
              " 'connections': 377,\n",
              " 'connects': 520,\n",
              " 'continent': 475,\n",
              " 'continental': 77,\n",
              " 'continuing': 537,\n",
              " 'cost': 109,\n",
              " 'costs': 422,\n",
              " 'could': 120,\n",
              " 'county': 228,\n",
              " 'cover': 558,\n",
              " 'cp': 419,\n",
              " 'currently': 544,\n",
              " 'd': 591,\n",
              " 'daily': 141,\n",
              " 'dallas': 10,\n",
              " 'database': 480,\n",
              " 'day': 159,\n",
              " 'days': 321,\n",
              " 'dc': 47,\n",
              " 'december': 173,\n",
              " 'define': 376,\n",
              " 'delta': 68,\n",
              " \"delta's\": 388,\n",
              " 'denver': 6,\n",
              " 'depart': 145,\n",
              " 'departing': 132,\n",
              " 'departs': 355,\n",
              " 'departure': 270,\n",
              " 'departures': 341,\n",
              " 'describe': 463,\n",
              " 'designate': 514,\n",
              " 'destination': 352,\n",
              " 'determine': 547,\n",
              " 'detroit': 158,\n",
              " 'dfw': 279,\n",
              " 'diego': 80,\n",
              " 'difference': 406,\n",
              " 'different': 387,\n",
              " 'dinner': 202,\n",
              " 'dinnertime': 425,\n",
              " 'direct': 180,\n",
              " 'directly': 517,\n",
              " 'discount': 483,\n",
              " 'display': 226,\n",
              " 'dl': 194,\n",
              " 'dollars': 129,\n",
              " 'downtown': 108,\n",
              " 'dulles': 449,\n",
              " 'ea': 327,\n",
              " 'earlier': 598,\n",
              " 'earliest': 49,\n",
              " 'early': 84,\n",
              " 'eastern': 193,\n",
              " 'economic': 577,\n",
              " 'economy': 148,\n",
              " 'eight': 414,\n",
              " 'eighteenth': 320,\n",
              " 'eighth': 196,\n",
              " 'either': 246,\n",
              " 'eleven': 573,\n",
              " 'eleventh': 240,\n",
              " 'else': 567,\n",
              " 'enroute': 613,\n",
              " 'equal': 554,\n",
              " 'equipment': 531,\n",
              " 'evening': 64,\n",
              " 'everywhere': 538,\n",
              " 'ewr': 271,\n",
              " 'expensive': 125,\n",
              " 'explain': 259,\n",
              " 'express': 238,\n",
              " 'eye': 543,\n",
              " 'f': 242,\n",
              " 'fare': 23,\n",
              " 'fares': 43,\n",
              " 'february': 309,\n",
              " 'ff': 326,\n",
              " 'field': 165,\n",
              " 'fifteen': 496,\n",
              " 'fifteenth': 213,\n",
              " 'fifth': 191,\n",
              " 'final': 525,\n",
              " 'find': 60,\n",
              " 'fine': 592,\n",
              " 'first': 24,\n",
              " 'flies': 232,\n",
              " 'flight': 2,\n",
              " 'flights': 1,\n",
              " 'florida': 239,\n",
              " 'fly': 22,\n",
              " 'flying': 177,\n",
              " 'fn': 372,\n",
              " 'following': 347,\n",
              " 'fort': 85,\n",
              " 'four': 407,\n",
              " 'fourteenth': 263,\n",
              " 'fourth': 192,\n",
              " 'francisco': 7,\n",
              " 'friday': 81,\n",
              " \"friday's\": 616,\n",
              " 'fridays': 549,\n",
              " 'friends': 443,\n",
              " 'general': 175,\n",
              " 'georgia': 354,\n",
              " 'get': 130,\n",
              " 'gets': 620,\n",
              " 'give': 41,\n",
              " 'go': 56,\n",
              " 'goes': 198,\n",
              " 'going': 103,\n",
              " 'got': 565,\n",
              " 'great': 397,\n",
              " 'greatest': 574,\n",
              " 'ground': 28,\n",
              " 'grounds': 504,\n",
              " 'guardia': 275,\n",
              " 'h': 255,\n",
              " 'hartfield': 529,\n",
              " 'heading': 363,\n",
              " 'hello': 342,\n",
              " 'help': 344,\n",
              " 'hi': 266,\n",
              " 'highest': 409,\n",
              " 'home': 581,\n",
              " 'hopefully': 555,\n",
              " 'hou': 516,\n",
              " 'hours': 293,\n",
              " 'houston': 90,\n",
              " 'hp': 291,\n",
              " \"i'd\": 27,\n",
              " \"i'll\": 331,\n",
              " \"i'm\": 127,\n",
              " \"i've\": 564,\n",
              " 'iah': 594,\n",
              " 'include': 390,\n",
              " 'includes': 495,\n",
              " 'including': 499,\n",
              " 'indiana': 535,\n",
              " 'indianapolis': 96,\n",
              " 'inexpensive': 597,\n",
              " 'inform': 510,\n",
              " 'information': 57,\n",
              " 'instead': 572,\n",
              " 'intercontinental': 523,\n",
              " 'interested': 200,\n",
              " 'international': 155,\n",
              " 'itinerary': 462,\n",
              " 'j': 579,\n",
              " 'january': 267,\n",
              " 'jersey': 256,\n",
              " 'jet': 603,\n",
              " 'jfk': 319,\n",
              " 'jose': 126,\n",
              " 'july': 79,\n",
              " 'june': 116,\n",
              " 'k': 511,\n",
              " 'kansas': 95,\n",
              " 'kind': 169,\n",
              " 'kindly': 492,\n",
              " 'kinds': 357,\n",
              " 'know': 135,\n",
              " 'la': 190,\n",
              " 'lake': 107,\n",
              " 'land': 343,\n",
              " 'landing': 433,\n",
              " 'landings': 280,\n",
              " 'lands': 533,\n",
              " 'largest': 623,\n",
              " 'las': 66,\n",
              " 'last': 156,\n",
              " 'lastest': 426,\n",
              " 'late': 195,\n",
              " 'later': 305,\n",
              " 'latest': 99,\n",
              " 'lax': 576,\n",
              " 'laying': 507,\n",
              " 'layover': 277,\n",
              " 'least': 140,\n",
              " 'leave': 46,\n",
              " 'leaves': 131,\n",
              " 'leaving': 17,\n",
              " 'less': 154,\n",
              " 'let': 596,\n",
              " \"let's\": 324,\n",
              " 'level': 569,\n",
              " 'like': 13,\n",
              " 'limo': 427,\n",
              " 'limousine': 306,\n",
              " 'limousines': 493,\n",
              " 'list': 14,\n",
              " 'listed': 553,\n",
              " 'listing': 243,\n",
              " 'listings': 611,\n",
              " 'live': 269,\n",
              " 'lives': 453,\n",
              " 'local': 477,\n",
              " 'locate': 528,\n",
              " 'logan': 300,\n",
              " 'long': 146,\n",
              " 'longest': 503,\n",
              " 'look': 417,\n",
              " 'looking': 188,\n",
              " 'los': 104,\n",
              " 'louis': 134,\n",
              " 'love': 164,\n",
              " 'lowest': 150,\n",
              " 'ls': 509,\n",
              " 'lufthansa': 325,\n",
              " 'lunch': 252,\n",
              " 'm': 418,\n",
              " 'make': 181,\n",
              " 'makes': 265,\n",
              " 'making': 328,\n",
              " 'many': 121,\n",
              " 'march': 273,\n",
              " 'maximum': 368,\n",
              " 'may': 117,\n",
              " 'mco': 301,\n",
              " 'meal': 151,\n",
              " 'meals': 287,\n",
              " 'mealtime': 471,\n",
              " 'mean': 118,\n",
              " 'meaning': 394,\n",
              " 'memphis': 113,\n",
              " 'mia': 571,\n",
              " 'miami': 62,\n",
              " 'michigan': 439,\n",
              " 'midnight': 312,\n",
              " 'midway': 435,\n",
              " 'midwest': 237,\n",
              " 'milwaukee': 59,\n",
              " 'minimum': 522,\n",
              " 'minneapolis': 133,\n",
              " 'minnesota': 408,\n",
              " 'missouri': 446,\n",
              " 'mitchell': 176,\n",
              " 'monday': 53,\n",
              " 'mondays': 560,\n",
              " 'month': 457,\n",
              " 'montreal': 112,\n",
              " 'morning': 19,\n",
              " 'mornings': 329,\n",
              " 'much': 144,\n",
              " 'must': 505,\n",
              " 'name': 562,\n",
              " 'names': 622,\n",
              " 'nashville': 123,\n",
              " 'nationair': 367,\n",
              " 'near': 385,\n",
              " 'need': 32,\n",
              " 'nevada': 604,\n",
              " 'new': 45,\n",
              " 'newark': 69,\n",
              " 'next': 82,\n",
              " 'night': 167,\n",
              " 'nights': 490,\n",
              " 'nighttime': 628,\n",
              " 'nineteenth': 274,\n",
              " 'ninth': 221,\n",
              " 'non': 587,\n",
              " 'nonstop': 51,\n",
              " 'nonstops': 431,\n",
              " 'noon': 67,\n",
              " 'noontime': 383,\n",
              " 'north': 248,\n",
              " 'northwest': 168,\n",
              " 'november': 153,\n",
              " 'number': 257,\n",
              " 'numbers': 466,\n",
              " 'nw': 381,\n",
              " \"o'clock\": 72,\n",
              " \"o'hare\": 500,\n",
              " 'oak': 624,\n",
              " 'oakland': 25,\n",
              " 'october': 247,\n",
              " 'offer': 286,\n",
              " 'offered': 540,\n",
              " 'offers': 370,\n",
              " 'oh': 497,\n",
              " 'ohio': 337,\n",
              " 'okay': 143,\n",
              " 'one': 40,\n",
              " \"one's\": 627,\n",
              " 'ontario': 210,\n",
              " 'operating': 559,\n",
              " 'options': 429,\n",
              " 'ord': 411,\n",
              " 'order': 607,\n",
              " 'originate': 416,\n",
              " 'originating': 382,\n",
              " 'orlando': 93,\n",
              " 'overnight': 476,\n",
              " 'passengers': 421,\n",
              " 'paul': 157,\n",
              " 'pennsylvania': 338,\n",
              " 'people': 350,\n",
              " 'petersburg': 124,\n",
              " 'philadelphia': 12,\n",
              " 'philly': 424,\n",
              " 'phoenix': 74,\n",
              " 'pittsburgh': 9,\n",
              " 'place': 494,\n",
              " 'plan': 375,\n",
              " 'plane': 227,\n",
              " 'planes': 283,\n",
              " 'planning': 552,\n",
              " 'please': 18,\n",
              " 'pm': 20,\n",
              " 'possible': 186,\n",
              " 'prefer': 473,\n",
              " 'preferably': 595,\n",
              " 'price': 205,\n",
              " 'priced': 619,\n",
              " 'prices': 209,\n",
              " 'proper': 467,\n",
              " 'provide': 392,\n",
              " 'provided': 323,\n",
              " 'provides': 472,\n",
              " 'put': 527,\n",
              " 'q': 298,\n",
              " 'qo': 308,\n",
              " 'qualify': 590,\n",
              " 'quebec': 415,\n",
              " 'question': 506,\n",
              " 'qw': 299,\n",
              " 'qx': 245,\n",
              " 'rate': 401,\n",
              " 'rates': 487,\n",
              " 'reaches': 534,\n",
              " 'reaching': 465,\n",
              " 'red': 542,\n",
              " 'rent': 349,\n",
              " 'rental': 260,\n",
              " 'rentals': 361,\n",
              " 'repeat': 629,\n",
              " 'repeating': 489,\n",
              " 'represented': 479,\n",
              " 'requesting': 356,\n",
              " 'reservation': 358,\n",
              " 'reservations': 452,\n",
              " 'restriction': 211,\n",
              " 'return': 171,\n",
              " 'returning': 220,\n",
              " 'reverse': 518,\n",
              " 'right': 282,\n",
              " 'round': 34,\n",
              " 'route': 478,\n",
              " 'run': 610,\n",
              " 'runs': 582,\n",
              " 'sa': 371,\n",
              " 'salt': 106,\n",
              " 'san': 5,\n",
              " 'saturday': 76,\n",
              " 'saturdays': 339,\n",
              " 'say': 405,\n",
              " 'scenario': 631,\n",
              " 'schedule': 185,\n",
              " 'scheduled': 530,\n",
              " 'schedules': 430,\n",
              " 'sd': 612,\n",
              " 'seat': 524,\n",
              " 'seating': 335,\n",
              " 'seats': 545,\n",
              " 'seattle': 89,\n",
              " 'second': 166,\n",
              " 'see': 114,\n",
              " 'september': 161,\n",
              " 'serve': 160,\n",
              " 'served': 229,\n",
              " 'serves': 170,\n",
              " 'service': 152,\n",
              " 'serviced': 469,\n",
              " 'services': 374,\n",
              " 'serving': 285,\n",
              " 'seven': 491,\n",
              " 'seventeen': 617,\n",
              " 'seventeenth': 276,\n",
              " 'seventh': 91,\n",
              " 'sfo': 302,\n",
              " 'shortest': 261,\n",
              " 'show': 4,\n",
              " 'single': 599,\n",
              " 'six': 396,\n",
              " 'sixteen': 340,\n",
              " 'sixteenth': 262,\n",
              " 'sixth': 225,\n",
              " 'smallest': 251,\n",
              " 'snack': 400,\n",
              " 'somebody': 566,\n",
              " 'sometime': 330,\n",
              " 'soon': 413,\n",
              " 'sorry': 362,\n",
              " 'sort': 557,\n",
              " 'sounds': 608,\n",
              " 'southwest': 313,\n",
              " 'spend': 515,\n",
              " 'st': 58,\n",
              " 'stand': 224,\n",
              " 'stands': 395,\n",
              " 'stapleton': 428,\n",
              " 'start': 609,\n",
              " 'starting': 322,\n",
              " 'staying': 605,\n",
              " 'still': 461,\n",
              " 'stop': 78,\n",
              " 'stopover': 110,\n",
              " 'stopovers': 314,\n",
              " 'stopping': 189,\n",
              " 'stops': 179,\n",
              " 'straight': 551,\n",
              " 'summer': 575,\n",
              " 'sunday': 63,\n",
              " \"sunday's\": 460,\n",
              " 'sundays': 393,\n",
              " 'supper': 485,\n",
              " 'sure': 402,\n",
              " 'symbols': 556,\n",
              " 'tacoma': 137,\n",
              " 'take': 199,\n",
              " 'takeoff': 437,\n",
              " 'takeoffs': 304,\n",
              " 'takes': 614,\n",
              " 'taking': 458,\n",
              " 'tampa': 122,\n",
              " 'taxi': 423,\n",
              " 'tell': 94,\n",
              " 'ten': 384,\n",
              " 'tennessee': 386,\n",
              " 'tenth': 241,\n",
              " 'texas': 380,\n",
              " 'thank': 272,\n",
              " 'thanks': 583,\n",
              " \"that's\": 626,\n",
              " 'thereafter': 484,\n",
              " 'thing': 548,\n",
              " 'third': 174,\n",
              " 'thirteenth': 444,\n",
              " 'thirtieth': 230,\n",
              " 'thirty': 264,\n",
              " 'three': 398,\n",
              " 'thrift': 315,\n",
              " 'thursday': 50,\n",
              " 'thursdays': 378,\n",
              " 'ticket': 119,\n",
              " 'tickets': 244,\n",
              " 'time': 139,\n",
              " 'times': 184,\n",
              " 'today': 219,\n",
              " 'tomorrow': 100,\n",
              " 'tonight': 508,\n",
              " 'toronto': 87,\n",
              " 'total': 379,\n",
              " 'toward': 580,\n",
              " 'tower': 412,\n",
              " 'town': 600,\n",
              " 'train': 440,\n",
              " 'trans': 481,\n",
              " 'transcontinental': 445,\n",
              " 'transport': 254,\n",
              " 'transportation': 30,\n",
              " 'travel': 136,\n",
              " 'traveling': 281,\n",
              " 'travels': 606,\n",
              " 'trip': 29,\n",
              " 'trips': 366,\n",
              " 'try': 536,\n",
              " 'trying': 317,\n",
              " 'tuesday': 55,\n",
              " 'tuesdays': 345,\n",
              " 'turboprop': 455,\n",
              " 'twa': 115,\n",
              " 'twelfth': 253,\n",
              " 'twelve': 625,\n",
              " 'twentieth': 203,\n",
              " 'twenty': 61,\n",
              " 'two': 208,\n",
              " 'type': 128,\n",
              " 'types': 235,\n",
              " 'ua': 212,\n",
              " 'united': 54,\n",
              " 'us': 88,\n",
              " 'usa': 541,\n",
              " 'use': 292,\n",
              " 'used': 163,\n",
              " 'uses': 307,\n",
              " 'using': 216,\n",
              " 'utah': 447,\n",
              " 'various': 601,\n",
              " 'vegas': 65,\n",
              " 'via': 215,\n",
              " 'vicinity': 570,\n",
              " 'visit': 546,\n",
              " 'want': 42,\n",
              " 'wanted': 470,\n",
              " 'wants': 568,\n",
              " 'washington': 16,\n",
              " 'way': 44,\n",
              " \"we're\": 391,\n",
              " 'wednesday': 26,\n",
              " \"wednesday's\": 501,\n",
              " 'wednesdays': 231,\n",
              " 'week': 206,\n",
              " 'weekday': 268,\n",
              " 'weekdays': 351,\n",
              " 'well': 389,\n",
              " 'west': 360,\n",
              " 'westchester': 214,\n",
              " \"what're\": 318,\n",
              " \"what's\": 97,\n",
              " 'whether': 539,\n",
              " 'wish': 364,\n",
              " 'within': 563,\n",
              " 'without': 432,\n",
              " 'working': 630,\n",
              " 'world': 482,\n",
              " 'worth': 86,\n",
              " 'would': 21,\n",
              " 'year': 498,\n",
              " 'yes': 288,\n",
              " 'yn': 289,\n",
              " 'york': 48,\n",
              " 'yyz': 585}"
            ]
          },
          "metadata": {
            "tags": []
          },
          "execution_count": 15
        }
      ]
    },
    {
      "cell_type": "code",
      "metadata": {
        "id": "1TBBw4PUmdzz"
      },
      "source": [
        "max_vocab_size = len(word_index) + 1\n",
        "input_length = 25"
      ],
      "execution_count": 16,
      "outputs": []
    },
    {
      "cell_type": "code",
      "metadata": {
        "id": "lW6UpnzPmgeb"
      },
      "source": [
        "train_data_tokens = tok.texts_to_sequences(text)\n",
        "test_data_tokens = tok.texts_to_sequences(test_text)"
      ],
      "execution_count": 17,
      "outputs": []
    },
    {
      "cell_type": "code",
      "metadata": {
        "id": "RMqrQ4SymiOe"
      },
      "source": [
        "train_input = pad_sequences(train_data_tokens, input_length)\n",
        "test_input = pad_sequences(test_data_tokens, input_length)"
      ],
      "execution_count": 18,
      "outputs": []
    },
    {
      "cell_type": "markdown",
      "metadata": {
        "id": "ELQOpSUsm02g"
      },
      "source": [
        "# 5 codificando os rotulos"
      ]
    },
    {
      "cell_type": "code",
      "metadata": {
        "colab": {
          "base_uri": "https://localhost:8080/"
        },
        "id": "1Bn5NC3Om2zg",
        "outputId": "7acd0691-507e-45e3-9fcc-3142c560b578"
      },
      "source": [
        "a = labels\n",
        "\n",
        "label_transformer = preprocessing.LabelEncoder()\n",
        "label_transformer.fit(labels)"
      ],
      "execution_count": 19,
      "outputs": [
        {
          "output_type": "execute_result",
          "data": {
            "text/plain": [
              "LabelEncoder()"
            ]
          },
          "metadata": {
            "tags": []
          },
          "execution_count": 19
        }
      ]
    },
    {
      "cell_type": "code",
      "metadata": {
        "id": "q2eNRCDcm8Nq"
      },
      "source": [
        "labels = label_transformer.transform(labels)\n",
        "b = labels\n",
        "test_labels = label_transformer.transform(test_labels)\n",
        "c = labels"
      ],
      "execution_count": 20,
      "outputs": []
    },
    {
      "cell_type": "code",
      "metadata": {
        "id": "iM_kmpSonEh6"
      },
      "source": [
        "labels = to_categorical(np.asarray(labels))\n",
        "d = labels\n",
        "test_labels = to_categorical(np.asarray(test_labels))"
      ],
      "execution_count": 21,
      "outputs": []
    },
    {
      "cell_type": "code",
      "metadata": {
        "colab": {
          "base_uri": "https://localhost:8080/"
        },
        "id": "lhtvfbLlnHkK",
        "outputId": "a7c943fc-0f51-4838-c1f4-33355a343b78"
      },
      "source": [
        "labels"
      ],
      "execution_count": 22,
      "outputs": [
        {
          "output_type": "execute_result",
          "data": {
            "text/plain": [
              "array([[0., 0., 0., ..., 0., 0., 0.],\n",
              "       [0., 0., 0., ..., 0., 0., 0.],\n",
              "       [0., 0., 0., ..., 1., 0., 0.],\n",
              "       ...,\n",
              "       [0., 0., 0., ..., 0., 0., 0.],\n",
              "       [0., 0., 0., ..., 0., 0., 0.],\n",
              "       [0., 0., 0., ..., 0., 0., 0.]], dtype=float32)"
            ]
          },
          "metadata": {
            "tags": []
          },
          "execution_count": 22
        }
      ]
    },
    {
      "cell_type": "markdown",
      "metadata": {
        "id": "g2jEbbA5nM4n"
      },
      "source": [
        "# 6 separação de treino e teste (para treinamento)"
      ]
    },
    {
      "cell_type": "code",
      "metadata": {
        "colab": {
          "base_uri": "https://localhost:8080/"
        },
        "id": "t4ll7077nPgK",
        "outputId": "c4fec6fc-ed7e-45f3-e114-2544a51ac02b"
      },
      "source": [
        "X_train, X_val, y_train, y_val = train_test_split(train_input, labels, test_size=0.2, random_state=42)\n",
        "X_train"
      ],
      "execution_count": 23,
      "outputs": [
        {
          "output_type": "execute_result",
          "data": {
            "text/plain": [
              "array([[  0,   0,   0, ...,  52, 477, 139],\n",
              "       [  0,   0,   0, ..., 105,  50,  64],\n",
              "       [  0,   0,   0, ...,   5,   7,   3],\n",
              "       ...,\n",
              "       [  0,   0,   0, ...,   2,  10,   9],\n",
              "       [  0,   0,   0, ..., 218, 137,  93],\n",
              "       [  0,   0,   0, ...,  42,  46,   3]], dtype=int32)"
            ]
          },
          "metadata": {
            "tags": []
          },
          "execution_count": 23
        }
      ]
    },
    {
      "cell_type": "markdown",
      "metadata": {
        "id": "3JPpBPUynfNw"
      },
      "source": [
        "# 7 deep learning"
      ]
    },
    {
      "cell_type": "code",
      "metadata": {
        "id": "i8cBcThyoGuU"
      },
      "source": [
        "model = Sequential()\n",
        "model.add(Embedding(max_vocab_size, 300, input_length=input_length, trainable=False))\n",
        "model.add(Conv1D(filters=32, kernel_size=8, activation='selu'))\n",
        "model.add(MaxPooling1D(pool_size=2))\n",
        "model.add(Flatten())\n",
        "model.add(Dense(10, activation='selu'))\n",
        "model.add(Dense(8, activation='sigmoid'))"
      ],
      "execution_count": 36,
      "outputs": []
    },
    {
      "cell_type": "code",
      "metadata": {
        "colab": {
          "base_uri": "https://localhost:8080/"
        },
        "id": "UVZfOrCOoJGp",
        "outputId": "4b560c6f-9fff-4adf-fc43-c69e8afc8dcf"
      },
      "source": [
        "model.summary()"
      ],
      "execution_count": 37,
      "outputs": [
        {
          "output_type": "stream",
          "text": [
            "Model: \"sequential_1\"\n",
            "_________________________________________________________________\n",
            "Layer (type)                 Output Shape              Param #   \n",
            "=================================================================\n",
            "embedding_1 (Embedding)      (None, 25, 300)           189600    \n",
            "_________________________________________________________________\n",
            "conv1d_1 (Conv1D)            (None, 18, 32)            76832     \n",
            "_________________________________________________________________\n",
            "max_pooling1d_1 (MaxPooling1 (None, 9, 32)             0         \n",
            "_________________________________________________________________\n",
            "flatten_1 (Flatten)          (None, 288)               0         \n",
            "_________________________________________________________________\n",
            "dense_2 (Dense)              (None, 10)                2890      \n",
            "_________________________________________________________________\n",
            "dense_3 (Dense)              (None, 8)                 88        \n",
            "=================================================================\n",
            "Total params: 269,410\n",
            "Trainable params: 79,810\n",
            "Non-trainable params: 189,600\n",
            "_________________________________________________________________\n"
          ],
          "name": "stdout"
        }
      ]
    },
    {
      "cell_type": "code",
      "metadata": {
        "colab": {
          "base_uri": "https://localhost:8080/"
        },
        "id": "UkGpNEC1oMUs",
        "outputId": "2afbcc9d-3f50-4916-82e6-b27f675be874"
      },
      "source": [
        "model.compile(loss='categorical_crossentropy', optimizer='adam', metrics=['accuracy'])\n",
        "model.fit(X_train, y_train, epochs=6, verbose=1)"
      ],
      "execution_count": 38,
      "outputs": [
        {
          "output_type": "stream",
          "text": [
            "Epoch 1/6\n",
            "121/121 [==============================] - 2s 9ms/step - loss: 1.0786 - accuracy: 0.7262\n",
            "Epoch 2/6\n",
            "121/121 [==============================] - 1s 9ms/step - loss: 0.6141 - accuracy: 0.8318\n",
            "Epoch 3/6\n",
            "121/121 [==============================] - 1s 9ms/step - loss: 0.4242 - accuracy: 0.8947\n",
            "Epoch 4/6\n",
            "121/121 [==============================] - 1s 9ms/step - loss: 0.3237 - accuracy: 0.9138\n",
            "Epoch 5/6\n",
            "121/121 [==============================] - 1s 9ms/step - loss: 0.2614 - accuracy: 0.9297\n",
            "Epoch 6/6\n",
            "121/121 [==============================] - 1s 9ms/step - loss: 0.1732 - accuracy: 0.9591\n"
          ],
          "name": "stdout"
        },
        {
          "output_type": "execute_result",
          "data": {
            "text/plain": [
              "<keras.callbacks.History at 0x7f3d9dc28e90>"
            ]
          },
          "metadata": {
            "tags": []
          },
          "execution_count": 38
        }
      ]
    },
    {
      "cell_type": "code",
      "metadata": {
        "colab": {
          "base_uri": "https://localhost:8080/"
        },
        "id": "-DQ9MT-WoMza",
        "outputId": "a175141a-dd67-4f93-a646-6d9a6f1bfbfe"
      },
      "source": [
        "model.evaluate(X_val, y_val)"
      ],
      "execution_count": 39,
      "outputs": [
        {
          "output_type": "stream",
          "text": [
            "31/31 [==============================] - 0s 4ms/step - loss: 0.2421 - accuracy: 0.9307\n"
          ],
          "name": "stdout"
        },
        {
          "output_type": "execute_result",
          "data": {
            "text/plain": [
              "[0.2420656830072403, 0.9307135343551636]"
            ]
          },
          "metadata": {
            "tags": []
          },
          "execution_count": 39
        }
      ]
    },
    {
      "cell_type": "code",
      "metadata": {
        "id": "A8oKg2h5oOOT"
      },
      "source": [
        "predictions = model.predict(test_input)"
      ],
      "execution_count": 40,
      "outputs": []
    },
    {
      "cell_type": "code",
      "metadata": {
        "colab": {
          "base_uri": "https://localhost:8080/"
        },
        "id": "d2M1k4BPoRqE",
        "outputId": "185f7a3c-03bb-4b4c-f07a-be21d51a2be0"
      },
      "source": [
        "def acc(y_true, y_pred):\n",
        "    return np.equal(np.argmax(y_true, axis=-1), np.argmax(y_pred, axis=-1)).mean()\n",
        "\n",
        "print(acc(test_labels, predictions))"
      ],
      "execution_count": 41,
      "outputs": [
        {
          "output_type": "stream",
          "text": [
            "0.94375\n"
          ],
          "name": "stdout"
        }
      ]
    },
    {
      "cell_type": "code",
      "metadata": {
        "id": "CTIqrV8koqOF"
      },
      "source": [
        "def get_intent(sentence):\n",
        "  data = [[sentence]]\n",
        "  df = pd.DataFrame(data)\n",
        "  entrada = df[0].apply(lambda x: ' '.join([word for word in x.split() if word not in (words)]))\n",
        "  entrada = tok.texts_to_sequences(entrada)\n",
        "  entrada = pad_sequences(entrada, input_length)\n",
        "  prediction = model.predict(entrada)\n",
        "  # return np.argmin(prediction)\n",
        "  return a[np.where(b == np.argmax(prediction))[0][0]]"
      ],
      "execution_count": 42,
      "outputs": []
    },
    {
      "cell_type": "markdown",
      "metadata": {
        "id": "xLH6ugIvxb7I"
      },
      "source": [
        "#  8 intencoes"
      ]
    },
    {
      "cell_type": "code",
      "metadata": {
        "id": "KiX92U07xqxi",
        "outputId": "dfc70e94-d403-4c06-eb51-8ca58b052a79",
        "colab": {
          "base_uri": "https://localhost:8080/"
        }
      },
      "source": [
        "for i in range(8):\n",
        "  print(a[np.where(b == i)[0][0]])"
      ],
      "execution_count": 43,
      "outputs": [
        {
          "output_type": "stream",
          "text": [
            "atis_abbreviation\n",
            "atis_aircraft\n",
            "atis_airfare\n",
            "atis_airline\n",
            "atis_flight\n",
            "atis_flight_time\n",
            "atis_ground_service\n",
            "atis_quantity\n"
          ],
          "name": "stdout"
        }
      ]
    },
    {
      "cell_type": "code",
      "metadata": {
        "colab": {
          "base_uri": "https://localhost:8080/",
          "height": 35
        },
        "id": "8CDn5mBBprw7",
        "outputId": "9a63cfb7-b13c-48e8-d187-8ebac2ec37cb"
      },
      "source": [
        "get_intent(\"what kinds of planes are used by american airlines\")"
      ],
      "execution_count": 44,
      "outputs": [
        {
          "output_type": "execute_result",
          "data": {
            "application/vnd.google.colaboratory.intrinsic+json": {
              "type": "string"
            },
            "text/plain": [
              "'atis_aircraft'"
            ]
          },
          "metadata": {
            "tags": []
          },
          "execution_count": 44
        }
      ]
    },
    {
      "cell_type": "code",
      "metadata": {
        "id": "w_Q5YSLLv_NN",
        "outputId": "c0711a83-bf72-4fef-d5b8-e282d0adde9d",
        "colab": {
          "base_uri": "https://localhost:8080/",
          "height": 35
        }
      },
      "source": [
        "get_intent(\"show me the first class fares from boston to denver\")"
      ],
      "execution_count": 45,
      "outputs": [
        {
          "output_type": "execute_result",
          "data": {
            "application/vnd.google.colaboratory.intrinsic+json": {
              "type": "string"
            },
            "text/plain": [
              "'atis_airfare'"
            ]
          },
          "metadata": {
            "tags": []
          },
          "execution_count": 45
        }
      ]
    },
    {
      "cell_type": "code",
      "metadata": {
        "id": "MeUNHDcswDKc",
        "outputId": "d330b6b7-4442-4711-9223-a09e51f06044",
        "colab": {
          "base_uri": "https://localhost:8080/",
          "height": 35
        }
      },
      "source": [
        "get_intent(\"show me the flights from boston to denver\")"
      ],
      "execution_count": 46,
      "outputs": [
        {
          "output_type": "execute_result",
          "data": {
            "application/vnd.google.colaboratory.intrinsic+json": {
              "type": "string"
            },
            "text/plain": [
              "'atis_flight'"
            ]
          },
          "metadata": {
            "tags": []
          },
          "execution_count": 46
        }
      ]
    }
  ]
}